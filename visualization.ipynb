{
 "cells": [
  {
   "cell_type": "code",
   "execution_count": 2,
   "metadata": {},
   "outputs": [],
   "source": [
    "import numpy as np\n",
    "import pandas as pd\n",
    "import helper_functions as hf\n",
    "\n",
    "pd.set_option(\"display.width\", 150)"
   ]
  },
  {
   "cell_type": "code",
   "execution_count": null,
   "metadata": {},
   "outputs": [],
   "source": [
    "# Run this cell to create the new modified_data folder\n",
    "# ~ 1 min runtime\n",
    "hf.concat_data()\n"
   ]
  },
  {
   "cell_type": "code",
   "execution_count": null,
   "metadata": {},
   "outputs": [],
   "source": [
    "# Run this cell to tokenize Section/Product and NewMarketSegmentColumns on stock_list.csv\n",
    "# ~ 20 secs runtime\n",
    "hf.tokenize_stock_list()"
   ]
  },
  {
   "cell_type": "code",
   "execution_count": null,
   "metadata": {},
   "outputs": [],
   "source": [
    "data = pd.read_csv(\"modified_data/stock_prices.csv\")"
   ]
  },
  {
   "cell_type": "code",
   "execution_count": 24,
   "metadata": {},
   "outputs": [
    {
     "name": "stdout",
     "output_type": "stream",
     "text": [
      "1865\n"
     ]
    }
   ],
   "source": [
    "x = data[\"Date\"]\n",
    "y = 0\n",
    "for i in x:\n",
    "    if i == \"2017-01-12\":\n",
    "        y += 1\n",
    "print(y)"
   ]
  },
  {
   "cell_type": "code",
   "execution_count": 83,
   "metadata": {},
   "outputs": [
    {
     "name": "stdout",
     "output_type": "stream",
     "text": [
      "Wednesday\n",
      "0\n"
     ]
    }
   ],
   "source": [
    "from datetime import date, timedelta\n",
    "import calendar\n",
    "\n",
    "\n",
    "date_str = \"2017-05-03\"\n",
    "dto = datetime.strptime(date_str, '%Y-%m-%d').date()\n",
    "print(calendar.day_name[dto.weekday()])\n",
    "\n",
    "x = data[\"Date\"]\n",
    "y = 0\n",
    "for i in x:\n",
    "    if i == date_str:\n",
    "        y += 1\n",
    "print(y)\n",
    "\n",
    "# z = dto.day\n",
    "# w = dto.month\n",
    "# print(z, w)\n",
    "# print(type(dto))\n",
    "# print(dto)"
   ]
  },
  {
   "cell_type": "code",
   "execution_count": 85,
   "metadata": {},
   "outputs": [
    {
     "name": "stdout",
     "output_type": "stream",
     "text": [
      "<class 'str'> 2017-05-03\n",
      "<class 'datetime.date'> 2017-05-08\n"
     ]
    }
   ],
   "source": [
    "date_str = \"2017-05-03\"\n",
    "dto = datetime.strptime(date_str, '%Y-%m-%d').date()\n",
    "b = dto + timedelta(days=5)\n",
    "a = dto.strftime(\"%Y-%m-%d\")\n",
    "print(type(a), a)\n",
    "print(type(b), b)"
   ]
  },
  {
   "cell_type": "code",
   "execution_count": 87,
   "metadata": {},
   "outputs": [
    {
     "name": "stdout",
     "output_type": "stream",
     "text": [
      "10\n"
     ]
    }
   ],
   "source": [
    "a = [1, 2, 1, 4, 5, 2, 6, 1, 3, 5, 7, 3, 5, 7, 6]\n",
    "\n",
    "v = a.index(7)\n",
    "print(v)"
   ]
  },
  {
   "cell_type": "code",
   "execution_count": 1,
   "metadata": {},
   "outputs": [],
   "source": [
    "from dataloader import JPXData\n",
    "\n",
    "data = JPXData()\n"
   ]
  },
  {
   "cell_type": "code",
   "execution_count": 2,
   "metadata": {},
   "outputs": [
    {
     "name": "stdout",
     "output_type": "stream",
     "text": [
      "Range of input  (7460, 9324), Number of Stocks on day 2017-01-11: 1865\n",
      "Range of target (9325, 11189), Number of Stocks on day 2017-01-12: 1865\n"
     ]
    },
    {
     "data": {
      "text/plain": [
       "(      SecuritiesCode    Open\n",
       " 7460            1301  2748.0\n",
       " 7461            1332   559.0\n",
       " 7462            1333  3210.0\n",
       " 7463            1376  1569.0\n",
       " 7464            1377  3260.0\n",
       " ...              ...     ...\n",
       " 9320            9990  1210.0\n",
       " 9321            9991  1144.0\n",
       " 9322            9993  1849.0\n",
       " 9323            9994  1750.0\n",
       " 9324            9997   800.0\n",
       " \n",
       " [1865 rows x 2 columns],\n",
       "        SecuritiesCode    Open\n",
       " 9325             1301  2745.0\n",
       " 9326             1332   553.0\n",
       " 9327             1333  3185.0\n",
       " 9328             1376  1545.0\n",
       " 9329             1377  3290.0\n",
       " ...               ...     ...\n",
       " 11185            9990  1198.0\n",
       " 11186            9991  1152.0\n",
       " 11187            9993  1860.0\n",
       " 11188            9994  1740.0\n",
       " 11189            9997   801.0\n",
       " \n",
       " [1865 rows x 2 columns])"
      ]
     },
     "execution_count": 2,
     "metadata": {},
     "output_type": "execute_result"
    }
   ],
   "source": [
    "data[4]"
   ]
  }
 ],
 "metadata": {
  "kernelspec": {
   "display_name": "Python 3.10.4 ('venv': venv)",
   "language": "python",
   "name": "python3"
  },
  "language_info": {
   "codemirror_mode": {
    "name": "ipython",
    "version": 3
   },
   "file_extension": ".py",
   "mimetype": "text/x-python",
   "name": "python",
   "nbconvert_exporter": "python",
   "pygments_lexer": "ipython3",
   "version": "3.10.4"
  },
  "orig_nbformat": 4,
  "vscode": {
   "interpreter": {
    "hash": "e2db06da75207f0b335e9532cc533497eb90d83ed622a6d9d355f2997ed09f04"
   }
  }
 },
 "nbformat": 4,
 "nbformat_minor": 2
}
