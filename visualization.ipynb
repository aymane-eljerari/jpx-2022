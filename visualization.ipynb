{
 "cells": [
  {
   "cell_type": "code",
   "execution_count": 10,
   "metadata": {},
   "outputs": [],
   "source": [
    "import numpy as np\n",
    "import pandas as pd\n",
    "\n",
    "pd.set_option(\"display.width\", 150)"
   ]
  },
  {
   "cell_type": "code",
   "execution_count": 9,
   "metadata": {},
   "outputs": [
    {
     "name": "stdout",
     "output_type": "stream",
     "text": [
      "                 RowId        Date  SecuritiesCode    Open    High     Low   Close   Volume  AdjustmentFactor  ExpectedDividend  SupervisionFlag    Target\n",
      "0        20170104_1301  2017-01-04            1301  2734.0  2755.0  2730.0  2742.0    31400               1.0               NaN            False  0.000730\n",
      "1        20170104_1332  2017-01-04            1332   568.0   576.0   563.0   571.0  2798500               1.0               NaN            False  0.012324\n",
      "2        20170104_1333  2017-01-04            1333  3150.0  3210.0  3140.0  3210.0   270800               1.0               NaN            False  0.006154\n",
      "3        20170104_1376  2017-01-04            1376  1510.0  1550.0  1510.0  1550.0    11300               1.0               NaN            False  0.011053\n",
      "4        20170104_1377  2017-01-04            1377  3270.0  3350.0  3270.0  3330.0   150800               1.0               NaN            False  0.003026\n",
      "...                ...         ...             ...     ...     ...     ...     ...      ...               ...               ...              ...       ...\n",
      "2332526  20211203_9990  2021-12-03            9990   514.0   528.0   513.0   528.0    44200               1.0               NaN            False  0.034816\n",
      "2332527  20211203_9991  2021-12-03            9991   782.0   794.0   782.0   794.0    35900               1.0               NaN            False  0.025478\n",
      "2332528  20211203_9993  2021-12-03            9993  1690.0  1690.0  1645.0  1645.0     7200               1.0               NaN            False -0.004302\n",
      "2332529  20211203_9994  2021-12-03            9994  2388.0  2396.0  2380.0  2389.0     6500               1.0               NaN            False  0.009098\n",
      "2332530  20211203_9997  2021-12-03            9997   690.0   711.0   686.0   696.0   381100               1.0               NaN            False  0.018414\n",
      "\n",
      "[2332531 rows x 12 columns]\n"
     ]
    }
   ],
   "source": [
    "file_path = \"data/train_files/stock_prices.csv\"\n",
    "\n",
    "data = pd.read_csv(file_path)\n",
    "\n",
    "print(data)"
   ]
  }
 ],
 "metadata": {
  "kernelspec": {
   "display_name": "Python 3.10.4 ('venv': venv)",
   "language": "python",
   "name": "python3"
  },
  "language_info": {
   "codemirror_mode": {
    "name": "ipython",
    "version": 3
   },
   "file_extension": ".py",
   "mimetype": "text/x-python",
   "name": "python",
   "nbconvert_exporter": "python",
   "pygments_lexer": "ipython3",
   "version": "3.10.4"
  },
  "orig_nbformat": 4,
  "vscode": {
   "interpreter": {
    "hash": "e2db06da75207f0b335e9532cc533497eb90d83ed622a6d9d355f2997ed09f04"
   }
  }
 },
 "nbformat": 4,
 "nbformat_minor": 2
}
