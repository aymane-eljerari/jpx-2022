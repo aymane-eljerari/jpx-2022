{
 "cells": [
  {
   "cell_type": "code",
   "execution_count": 1,
   "metadata": {},
   "outputs": [
    {
     "name": "stderr",
     "output_type": "stream",
     "text": [
      "/home/aymane/Kaggle/jpx-2022/venv/lib/python3.10/site-packages/tqdm/auto.py:22: TqdmWarning: IProgress not found. Please update jupyter and ipywidgets. See https://ipywidgets.readthedocs.io/en/stable/user_install.html\n",
      "  from .autonotebook import tqdm as notebook_tqdm\n"
     ]
    }
   ],
   "source": [
    "import torch\n",
    "import numpy as np\n",
    "import pandas as pd\n",
    "import torch.nn as nn\n",
    "import torch.optim as optim\n",
    "from dataloader import JPXData\n",
    "from dataloader2 import SecondData\n",
    "from autoencoder import encoder\n",
    "import helper_functions as hf\n",
    "import matplotlib.pyplot as plt\n",
    "from autoencoder import autoencoder as ae"
   ]
  },
  {
   "cell_type": "code",
   "execution_count": 2,
   "metadata": {},
   "outputs": [],
   "source": [
    "stock_prices = pd.read_csv(\"modified_data/autoencoder_data.csv\")"
   ]
  },
  {
   "cell_type": "code",
   "execution_count": 3,
   "metadata": {},
   "outputs": [],
   "source": [
    "train_class = JPXData(data=stock_prices, model=\"ae\")\n",
    "trainloader = torch.utils.data.DataLoader(train_class, batch_size=1, shuffle=True, num_workers=5)"
   ]
  },
  {
   "cell_type": "code",
   "execution_count": 4,
   "metadata": {},
   "outputs": [],
   "source": [
    "layers = [69, 50, 35, 20, 10]"
   ]
  },
  {
   "cell_type": "code",
   "execution_count": 5,
   "metadata": {},
   "outputs": [],
   "source": [
    "net = ae(e_layers=layers, d_layers=layers[::-1]).cuda()"
   ]
  },
  {
   "cell_type": "code",
   "execution_count": 6,
   "metadata": {},
   "outputs": [],
   "source": [
    "criterion = nn.MSELoss().cuda()\n",
    "optimizer = optim.SGD(net.parameters(), lr=1e-4, momentum=0.9)"
   ]
  },
  {
   "cell_type": "code",
   "execution_count": 7,
   "metadata": {},
   "outputs": [
    {
     "name": "stdout",
     "output_type": "stream",
     "text": [
      "[1,  1000] loss: 43.66825 L1_loss: 0.45330\n",
      "[2,  1000] loss: 27.24378 L1_loss: 0.34740\n",
      "[3,  1000] loss: 24.41209 L1_loss: 0.32623\n",
      "[4,  1000] loss: 22.33589 L1_loss: 0.31318\n",
      "[5,  1000] loss: 20.04292 L1_loss: 0.29311\n",
      "[6,  1000] loss: 19.54267 L1_loss: 0.28878\n",
      "[7,  1000] loss: 19.11541 L1_loss: 0.28586\n",
      "[8,  1000] loss: 18.60277 L1_loss: 0.28057\n",
      "[9,  1000] loss: 18.42588 L1_loss: 0.27860\n",
      "[10,  1000] loss: 18.03478 L1_loss: 0.27602\n",
      "[11,  1000] loss: 17.83141 L1_loss: 0.27351\n",
      "[12,  1000] loss: 17.44952 L1_loss: 0.27128\n",
      "[13,  1000] loss: 17.10300 L1_loss: 0.26806\n",
      "[14,  1000] loss: 16.84014 L1_loss: 0.26620\n",
      "[15,  1000] loss: 16.84382 L1_loss: 0.26604\n",
      "[16,  1000] loss: 16.71111 L1_loss: 0.26470\n",
      "[17,  1000] loss: 16.55539 L1_loss: 0.26386\n",
      "[18,  1000] loss: 16.25094 L1_loss: 0.26168\n",
      "[19,  1000] loss: 16.19532 L1_loss: 0.26108\n",
      "[20,  1000] loss: 15.85309 L1_loss: 0.25845\n",
      "[21,  1000] loss: 16.03016 L1_loss: 0.25968\n",
      "[22,  1000] loss: 15.78403 L1_loss: 0.25800\n",
      "[23,  1000] loss: 15.53589 L1_loss: 0.25632\n",
      "[24,  1000] loss: 15.61098 L1_loss: 0.25839\n",
      "[25,  1000] loss: 15.29565 L1_loss: 0.25428\n",
      "[26,  1000] loss: 15.47270 L1_loss: 0.25730\n",
      "[27,  1000] loss: 15.13695 L1_loss: 0.25348\n",
      "[28,  1000] loss: 15.33774 L1_loss: 0.25573\n",
      "[29,  1000] loss: 15.16238 L1_loss: 0.25460\n",
      "[30,  1000] loss: 14.96739 L1_loss: 0.25263\n",
      "[31,  1000] loss: 15.19455 L1_loss: 0.25601\n",
      "[32,  1000] loss: 14.82114 L1_loss: 0.25062\n",
      "[33,  1000] loss: 14.82641 L1_loss: 0.25180\n",
      "[34,  1000] loss: 14.78951 L1_loss: 0.25104\n",
      "[35,  1000] loss: 14.85954 L1_loss: 0.25220\n",
      "[36,  1000] loss: 14.73578 L1_loss: 0.25205\n",
      "[37,  1000] loss: 14.89669 L1_loss: 0.25351\n",
      "[38,  1000] loss: 14.55884 L1_loss: 0.24884\n",
      "[39,  1000] loss: 14.73067 L1_loss: 0.25196\n",
      "[40,  1000] loss: 14.52948 L1_loss: 0.24851\n",
      "[41,  1000] loss: 14.42707 L1_loss: 0.24797\n",
      "[42,  1000] loss: 14.44452 L1_loss: 0.24874\n",
      "[43,  1000] loss: 14.34957 L1_loss: 0.24799\n",
      "[44,  1000] loss: 14.47143 L1_loss: 0.24996\n",
      "[45,  1000] loss: 14.12602 L1_loss: 0.24547\n",
      "[46,  1000] loss: 14.30381 L1_loss: 0.24786\n",
      "[47,  1000] loss: 14.20332 L1_loss: 0.24672\n",
      "[48,  1000] loss: 14.15323 L1_loss: 0.24693\n",
      "[49,  1000] loss: 14.30421 L1_loss: 0.24783\n",
      "[50,  1000] loss: 14.17578 L1_loss: 0.24770\n",
      "Finished Training\n"
     ]
    }
   ],
   "source": [
    "loss_a1 = []\n",
    "loss_L1 = []\n",
    "for epoch in range(50):  # loop over the dataset multiple times\n",
    "\n",
    "    running_loss = 0.0\n",
    "    running_loss_l1 = 0.0\n",
    "\n",
    "    for i, data in enumerate(trainloader, 0):\n",
    "        # get the inputs; data is a list of [inputs, labels]\n",
    "        inputs, labels, date = data\n",
    "        inputs = inputs.cuda()\n",
    "        labels = labels.cuda()\n",
    "\n",
    "        # zero the parameter gradients\n",
    "        optimizer.zero_grad()\n",
    "        # forward + backward + optimize\n",
    "        outputs = net(inputs)\n",
    "        loss = hf.loss_function(outputs, labels, criterion=lambda x,y: criterion(10*x, 10*y))\n",
    "        loss_l1 = hf.loss_function(outputs, labels, criterion=nn.L1Loss().cuda())\n",
    "        loss.backward()\n",
    "        optimizer.step()\n",
    "\n",
    "        # print statistics\n",
    "        running_loss += loss.item()\n",
    "        running_loss_l1 += loss_l1.item()\n",
    "    \n",
    "        if i % 1000 == 999: # print every 1000 mini-batches\n",
    "            print(f'[{epoch + 1}, {i + 1:5d}] loss: {running_loss / 1000:.5f} L1_loss: {running_loss_l1 / 1000:.5f}')\n",
    "            loss_a1.append(running_loss /1000)\n",
    "            loss_L1.append(running_loss_l1/1000)\n",
    "            running_loss = 0.0\n",
    "            running_loss_l1 = 0.0\n",
    "        # torch.save(net.state_dict(), f'saved_models/{epoch}.pt')\n",
    "\n",
    "print('Finished Training')"
   ]
  },
  {
   "cell_type": "code",
   "execution_count": 8,
   "metadata": {},
   "outputs": [
    {
     "data": {
      "image/png": "[encoded data removed]",
      "text/plain": [
       "<Figure size 432x288 with 1 Axes>"
      ]
     },
     "metadata": {
      "needs_background": "light"
     },
     "output_type": "display_data"
    }
   ],
   "source": [
    "final_loss = np.array(loss_L1)\n",
    "plt.plot(final_loss)\n",
    "plt.show()"
   ]
  },
  {
   "cell_type": "code",
   "execution_count": 9,
   "metadata": {},
   "outputs": [],
   "source": [
    "name = final_loss[-1]\n",
    "fname = f\"autoencoder_saved/ae1_l1_{name:0.3f}.pt\"\n",
    "net.save_state(fname)"
   ]
  },
  {
   "cell_type": "code",
   "execution_count": 10,
   "metadata": {},
   "outputs": [
    {
     "data": {
      "text/plain": [
       "encoder(\n",
       "  (net): Sequential(\n",
       "    (0): Linear(in_features=69, out_features=50, bias=True)\n",
       "    (1): SELU()\n",
       "    (2): Linear(in_features=50, out_features=35, bias=True)\n",
       "    (3): SELU()\n",
       "    (4): Linear(in_features=35, out_features=20, bias=True)\n",
       "    (5): SELU()\n",
       "    (6): Linear(in_features=20, out_features=10, bias=True)\n",
       "    (7): SELU()\n",
       "  )\n",
       ")"
      ]
     },
     "execution_count": 10,
     "metadata": {},
     "output_type": "execute_result"
    }
   ],
   "source": [
    "e = encoder(layers) \n",
    "e.load_state_dict(torch.load(fname))\n",
    "e.eval()"
   ]
  },
  {
   "cell_type": "code",
   "execution_count": 11,
   "metadata": {},
   "outputs": [],
   "source": [
    "data_ae2 = SecondData(e)"
   ]
  },
  {
   "cell_type": "code",
   "execution_count": 12,
   "metadata": {},
   "outputs": [
    {
     "name": "stdout",
     "output_type": "stream",
     "text": [
      "torch.Size([20000])\n"
     ]
    }
   ],
   "source": [
    "a = data_ae2[0]\n",
    "print(a[0].shape)"
   ]
  },
  {
   "cell_type": "code",
   "execution_count": 13,
   "metadata": {},
   "outputs": [],
   "source": [
    "layers = [20000, 5000]\n",
    "net2 = ae(e_layers=layers, d_layers=layers[::-1]).cuda()"
   ]
  },
  {
   "cell_type": "code",
   "execution_count": 14,
   "metadata": {},
   "outputs": [
    {
     "name": "stdout",
     "output_type": "stream",
     "text": [
      "0.8\n"
     ]
    }
   ],
   "source": [
    "sum = 0\n",
    "for i in range(len(layers)-1):\n",
    "    sum += layers[i] * layers[i+1]\n",
    "print(sum*8/1e9)"
   ]
  },
  {
   "cell_type": "code",
   "execution_count": 15,
   "metadata": {},
   "outputs": [],
   "source": [
    "criterion = nn.MSELoss().cuda()\n",
    "optimizer = optim.SGD(net2.parameters(), lr=1e-4, momentum=0.9)"
   ]
  },
  {
   "cell_type": "code",
   "execution_count": 16,
   "metadata": {},
   "outputs": [
    {
     "ename": "RuntimeError",
     "evalue": "Trying to backward through the graph a second time (or directly access saved tensors after they have already been freed). Saved intermediate values of the graph are freed when you call .backward() or autograd.grad(). Specify retain_graph=True if you need to backward through the graph a second time or if you need to access saved tensors after calling backward.",
     "output_type": "error",
     "traceback": [
      "\u001b[0;31m---------------------------------------------------------------------------\u001b[0m",
      "\u001b[0;31mRuntimeError\u001b[0m                              Traceback (most recent call last)",
      "\u001b[1;32m/home/aymane/Kaggle/jpx-2022/train.ipynb Cell 16'\u001b[0m in \u001b[0;36m<cell line: 3>\u001b[0;34m()\u001b[0m\n\u001b[1;32m     <a href='vscode-notebook-cell:/home/aymane/Kaggle/jpx-2022/train.ipynb#ch0000013?line=17'>18</a>\u001b[0m loss \u001b[39m=\u001b[39m hf\u001b[39m.\u001b[39mloss_function(outputs, labels, criterion\u001b[39m=\u001b[39m\u001b[39mlambda\u001b[39;00m x,y: criterion(\u001b[39m10\u001b[39m\u001b[39m*\u001b[39mx, \u001b[39m10\u001b[39m\u001b[39m*\u001b[39my))\n\u001b[1;32m     <a href='vscode-notebook-cell:/home/aymane/Kaggle/jpx-2022/train.ipynb#ch0000013?line=18'>19</a>\u001b[0m loss_L1_2 \u001b[39m=\u001b[39m hf\u001b[39m.\u001b[39mloss_function(outputs, labels, criterion\u001b[39m=\u001b[39mnn\u001b[39m.\u001b[39mL1Loss()\u001b[39m.\u001b[39mcuda())\n\u001b[0;32m---> <a href='vscode-notebook-cell:/home/aymane/Kaggle/jpx-2022/train.ipynb#ch0000013?line=19'>20</a>\u001b[0m loss\u001b[39m.\u001b[39;49mbackward()\n\u001b[1;32m     <a href='vscode-notebook-cell:/home/aymane/Kaggle/jpx-2022/train.ipynb#ch0000013?line=20'>21</a>\u001b[0m optimizer\u001b[39m.\u001b[39mstep()\n\u001b[1;32m     <a href='vscode-notebook-cell:/home/aymane/Kaggle/jpx-2022/train.ipynb#ch0000013?line=22'>23</a>\u001b[0m \u001b[39m# print statistics\u001b[39;00m\n",
      "File \u001b[0;32m~/Kaggle/jpx-2022/venv/lib/python3.10/site-packages/torch/_tensor.py:363\u001b[0m, in \u001b[0;36mTensor.backward\u001b[0;34m(self, gradient, retain_graph, create_graph, inputs)\u001b[0m\n\u001b[1;32m    354\u001b[0m \u001b[39mif\u001b[39;00m has_torch_function_unary(\u001b[39mself\u001b[39m):\n\u001b[1;32m    355\u001b[0m     \u001b[39mreturn\u001b[39;00m handle_torch_function(\n\u001b[1;32m    356\u001b[0m         Tensor\u001b[39m.\u001b[39mbackward,\n\u001b[1;32m    357\u001b[0m         (\u001b[39mself\u001b[39m,),\n\u001b[0;32m   (...)\u001b[0m\n\u001b[1;32m    361\u001b[0m         create_graph\u001b[39m=\u001b[39mcreate_graph,\n\u001b[1;32m    362\u001b[0m         inputs\u001b[39m=\u001b[39minputs)\n\u001b[0;32m--> 363\u001b[0m torch\u001b[39m.\u001b[39;49mautograd\u001b[39m.\u001b[39;49mbackward(\u001b[39mself\u001b[39;49m, gradient, retain_graph, create_graph, inputs\u001b[39m=\u001b[39;49minputs)\n",
      "File \u001b[0;32m~/Kaggle/jpx-2022/venv/lib/python3.10/site-packages/torch/autograd/__init__.py:173\u001b[0m, in \u001b[0;36mbackward\u001b[0;34m(tensors, grad_tensors, retain_graph, create_graph, grad_variables, inputs)\u001b[0m\n\u001b[1;32m    168\u001b[0m     retain_graph \u001b[39m=\u001b[39m create_graph\n\u001b[1;32m    170\u001b[0m \u001b[39m# The reason we repeat same the comment below is that\u001b[39;00m\n\u001b[1;32m    171\u001b[0m \u001b[39m# some Python versions print out the first line of a multi-line function\u001b[39;00m\n\u001b[1;32m    172\u001b[0m \u001b[39m# calls in the traceback and some print out the last line\u001b[39;00m\n\u001b[0;32m--> 173\u001b[0m Variable\u001b[39m.\u001b[39;49m_execution_engine\u001b[39m.\u001b[39;49mrun_backward(  \u001b[39m# Calls into the C++ engine to run the backward pass\u001b[39;49;00m\n\u001b[1;32m    174\u001b[0m     tensors, grad_tensors_, retain_graph, create_graph, inputs,\n\u001b[1;32m    175\u001b[0m     allow_unreachable\u001b[39m=\u001b[39;49m\u001b[39mTrue\u001b[39;49;00m, accumulate_grad\u001b[39m=\u001b[39;49m\u001b[39mTrue\u001b[39;49;00m)\n",
      "\u001b[0;31mRuntimeError\u001b[0m: Trying to backward through the graph a second time (or directly access saved tensors after they have already been freed). Saved intermediate values of the graph are freed when you call .backward() or autograd.grad(). Specify retain_graph=True if you need to backward through the graph a second time or if you need to access saved tensors after calling backward."
     ]
    }
   ],
   "source": [
    "loss_a2 = []\n",
    "loss_L1_2 = []\n",
    "for epoch in range(100):  # loop over the dataset multiple times\n",
    "\n",
    "    running_loss = 0.0\n",
    "    running_loss_L1_2 = 0.0\n",
    "\n",
    "    for i, data in enumerate(data_ae2, 0):\n",
    "        # get the inputs; data is a list of [inputs, labels]\n",
    "        inputs, labels = data\n",
    "        inputs = inputs.cuda()\n",
    "        labels = labels.cuda()\n",
    "\n",
    "        # zero the parameter gradients\n",
    "        optimizer.zero_grad()\n",
    "        # forward + backward + optimize\n",
    "        outputs = net2(inputs)\n",
    "        loss = hf.loss_function(outputs, labels, criterion=lambda x,y: criterion(10*x, 10*y))\n",
    "        loss_L1_2 = hf.loss_function(outputs, labels, criterion=nn.L1Loss().cuda())\n",
    "        loss.backward(retain_graph=True)\n",
    "        optimizer.step()\n",
    "\n",
    "        # print statistics\n",
    "        running_loss += loss.item()\n",
    "        running_loss_L1_2 += loss_L1_2.item()\n",
    "    \n",
    "        if i % 1000 == 999: # print every 1000 mini-batches\n",
    "            print(f'[{epoch + 1}, {i + 1:5d}] loss: {running_loss / 1000:.5f} L1_loss: {running_loss_L1_2 / 1000:.5f}')\n",
    "            loss_a2.append(running_loss /1000)\n",
    "            loss_L1_2.append(running_loss_L1_2/1000)\n",
    "            running_loss = 0.0\n",
    "            running_loss_L1_2 = 0.0\n",
    "        # torch.save(net.state_dict(), f'saved_models/{epoch}.pt')\n",
    "\n",
    "print('Finished Training')"
   ]
  },
  {
   "cell_type": "code",
   "execution_count": null,
   "metadata": {},
   "outputs": [],
   "source": []
  }
 ],
 "metadata": {
  "kernelspec": {
   "display_name": "Python 3.10.5 ('venv': venv)",
   "language": "python",
   "name": "python3"
  },
  "language_info": {
   "codemirror_mode": {
    "name": "ipython",
    "version": 3
   },
   "file_extension": ".py",
   "mimetype": "text/x-python",
   "name": "python",
   "nbconvert_exporter": "python",
   "pygments_lexer": "ipython3",
   "version": "3.10.5"
  },
  "orig_nbformat": 4,
  "vscode": {
   "interpreter": {
    "hash": "e2db06da75207f0b335e9532cc533497eb90d83ed622a6d9d355f2997ed09f04"
   }
  }
 },
 "nbformat": 4,
 "nbformat_minor": 2
}
