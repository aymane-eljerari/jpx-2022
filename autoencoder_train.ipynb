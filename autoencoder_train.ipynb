{
 "cells": [
  {
   "cell_type": "code",
   "execution_count": 1,
   "metadata": {},
   "outputs": [
    {
     "name": "stderr",
     "output_type": "stream",
     "text": [
      "/home/aymane/Kaggle/jpx-2022/venv/lib/python3.10/site-packages/tqdm/auto.py:22: TqdmWarning: IProgress not found. Please update jupyter and ipywidgets. See https://ipywidgets.readthedocs.io/en/stable/user_install.html\n",
      "  from .autonotebook import tqdm as notebook_tqdm\n"
     ]
    }
   ],
   "source": [
    "import torch\n",
    "import numpy as np\n",
    "import pandas as pd\n",
    "import torch.nn as nn\n",
    "import torch.optim as optim\n",
    "from dataloader import JPXData\n",
    "import helper_functions as hf\n",
    "import matplotlib.pyplot as plt\n",
    "from autoencoder import autoencoder as ae"
   ]
  },
  {
   "cell_type": "code",
   "execution_count": 2,
   "metadata": {},
   "outputs": [],
   "source": [
    "stock_prices = pd.read_csv(\"modified_data/autoencoder_data.csv\")"
   ]
  },
  {
   "cell_type": "code",
   "execution_count": 3,
   "metadata": {},
   "outputs": [],
   "source": [
    "train_class = JPXData(data=stock_prices, model=\"ae\")\n",
    "trainloader = torch.utils.data.DataLoader(train_class, batch_size=1, shuffle=True, num_workers=5)"
   ]
  },
  {
   "cell_type": "code",
   "execution_count": 4,
   "metadata": {},
   "outputs": [],
   "source": [
    "layers = [69, 50, 35, 20, 15]\n",
    "net = ae(e_layers=layers, d_layers=layers[::-1]).cuda()"
   ]
  },
  {
   "cell_type": "code",
   "execution_count": 5,
   "metadata": {},
   "outputs": [],
   "source": [
    "criterion = nn.MSELoss().cuda()\n",
    "optimizer = optim.SGD(net.parameters(), lr=1e-4, momentum=0.9)"
   ]
  },
  {
   "cell_type": "code",
   "execution_count": 6,
   "metadata": {},
   "outputs": [
    {
     "name": "stdout",
     "output_type": "stream",
     "text": [
      "[1,  1000] loss: 0.8004743241\n",
      "[2,  1000] loss: 0.7900431686\n",
      "[3,  1000] loss: 0.7817869242\n",
      "[4,  1000] loss: 0.7622974153\n",
      "[5,  1000] loss: 0.7278060471\n",
      "[6,  1000] loss: 0.6786485879\n",
      "[7,  1000] loss: 0.6506793940\n",
      "[8,  1000] loss: 0.6361149130\n",
      "[9,  1000] loss: 0.6265127752\n",
      "[10,  1000] loss: 0.6193923427\n",
      "[11,  1000] loss: 0.6071125016\n",
      "[12,  1000] loss: 0.5924150317\n",
      "[13,  1000] loss: 0.5730225213\n",
      "[14,  1000] loss: 0.5536236719\n",
      "[15,  1000] loss: 0.5351509403\n",
      "[16,  1000] loss: 0.5175268455\n",
      "[17,  1000] loss: 0.5045994700\n",
      "[18,  1000] loss: 0.4955922507\n",
      "[19,  1000] loss: 0.4875327421\n",
      "[20,  1000] loss: 0.4817543047\n",
      "[21,  1000] loss: 0.4749791518\n",
      "[22,  1000] loss: 0.4687221346\n",
      "[23,  1000] loss: 0.4644963779\n",
      "[24,  1000] loss: 0.4605108163\n",
      "[25,  1000] loss: 0.4572446980\n",
      "[26,  1000] loss: 0.4538386605\n",
      "[27,  1000] loss: 0.4496513450\n",
      "[28,  1000] loss: 0.4453771473\n",
      "[29,  1000] loss: 0.4433344268\n",
      "[30,  1000] loss: 0.4408659311\n",
      "[31,  1000] loss: 0.4367956037\n",
      "[32,  1000] loss: 0.4354385815\n",
      "[33,  1000] loss: 0.4332840168\n",
      "[34,  1000] loss: 0.4325493364\n",
      "[35,  1000] loss: 0.4297131590\n",
      "[36,  1000] loss: 0.4277247552\n",
      "[37,  1000] loss: 0.4279701361\n",
      "[38,  1000] loss: 0.4268207293\n",
      "[39,  1000] loss: 0.4234841038\n",
      "[40,  1000] loss: 0.4228305209\n",
      "[41,  1000] loss: 0.4226430526\n",
      "[42,  1000] loss: 0.4205863931\n",
      "[43,  1000] loss: 0.4193223071\n",
      "[44,  1000] loss: 0.4194597977\n",
      "[45,  1000] loss: 0.4191988960\n",
      "[46,  1000] loss: 0.4173168902\n",
      "[47,  1000] loss: 0.4173155059\n",
      "[48,  1000] loss: 0.4146586932\n",
      "[49,  1000] loss: 0.4150277766\n",
      "[50,  1000] loss: 0.4124476644\n",
      "[51,  1000] loss: 0.4135745391\n",
      "[52,  1000] loss: 0.4136439078\n",
      "[53,  1000] loss: 0.4105268894\n",
      "[54,  1000] loss: 0.4111009012\n",
      "[55,  1000] loss: 0.4077827096\n",
      "[56,  1000] loss: 0.4072616233\n",
      "[57,  1000] loss: 0.4064205882\n",
      "[58,  1000] loss: 0.4044609827\n",
      "[59,  1000] loss: 0.4032671223\n",
      "[60,  1000] loss: 0.4035788548\n",
      "[61,  1000] loss: 0.4030841994\n",
      "[62,  1000] loss: 0.4013378382\n",
      "[63,  1000] loss: 0.3995191299\n",
      "[64,  1000] loss: 0.3992132670\n",
      "[65,  1000] loss: 0.3971129003\n",
      "[66,  1000] loss: 0.3956332682\n",
      "[67,  1000] loss: 0.3936186050\n",
      "[68,  1000] loss: 0.3939908745\n",
      "[69,  1000] loss: 0.3926864544\n",
      "[70,  1000] loss: 0.3913990461\n",
      "[71,  1000] loss: 0.3889719535\n",
      "[72,  1000] loss: 0.3869025953\n",
      "[73,  1000] loss: 0.3850791938\n",
      "[74,  1000] loss: 0.3829811299\n",
      "[75,  1000] loss: 0.3822086567\n",
      "[76,  1000] loss: 0.3815413210\n",
      "[77,  1000] loss: 0.3799259619\n",
      "[78,  1000] loss: 0.3775598058\n",
      "[79,  1000] loss: 0.3772291787\n",
      "[80,  1000] loss: 0.3752523892\n",
      "[81,  1000] loss: 0.3742270918\n",
      "[82,  1000] loss: 0.3734982797\n",
      "[83,  1000] loss: 0.3732104097\n",
      "[84,  1000] loss: 0.3715957217\n",
      "[85,  1000] loss: 0.3713778078\n",
      "[86,  1000] loss: 0.3704153301\n",
      "[87,  1000] loss: 0.3697138502\n",
      "[88,  1000] loss: 0.3694306588\n",
      "[89,  1000] loss: 0.3696279704\n",
      "[90,  1000] loss: 0.3692891524\n",
      "[91,  1000] loss: 0.3668286913\n",
      "[92,  1000] loss: 0.3681477855\n",
      "[93,  1000] loss: 0.3664851736\n",
      "[94,  1000] loss: 0.3644593279\n",
      "[95,  1000] loss: 0.3654599264\n",
      "[96,  1000] loss: 0.3656561173\n",
      "[97,  1000] loss: 0.3639568046\n",
      "[98,  1000] loss: 0.3647744078\n",
      "[99,  1000] loss: 0.3640719822\n",
      "[100,  1000] loss: 0.3642525321\n",
      "Finished Training\n"
     ]
    }
   ],
   "source": [
    "loss_a1 = []\n",
    "loss_L1 = []\n",
    "for epoch in range(100):  # loop over the dataset multiple times\n",
    "\n",
    "    running_loss = 0.0\n",
    "    running_loss_l1 = 0.0\n",
    "\n",
    "    for i, data in enumerate(trainloader, 0):\n",
    "        # get the inputs; data is a list of [inputs, labels]\n",
    "        inputs, labels, date = data\n",
    "        inputs = inputs.cuda()\n",
    "        labels = labels.cuda()\n",
    "\n",
    "        # zero the parameter gradients\n",
    "        optimizer.zero_grad()\n",
    "        # forward + backward + optimize\n",
    "        outputs = net(inputs)\n",
    "        loss = hf.loss_function(outputs, labels, criterion=lambda x,y: criterion(10*x, 10*y))\n",
    "        loss_l1 = hf.loss_function(outputs, labels, criterion=nn.L1Loss().cuda())\n",
    "        loss.backward()\n",
    "        optimizer.step()\n",
    "\n",
    "        # print statistics\n",
    "        running_loss += loss.item()\n",
    "        running_loss_l1 += loss_L1.item()\n",
    "    \n",
    "        if i % 1000 == 999: # print every 1000 mini-batches\n",
    "            print(f'[{epoch + 1}, {i + 1:5d}] loss: {running_loss / 1000:.5f} L1_loss: {running_loss_l1 / 1000:.5f}')\n",
    "            loss_a1.append(running_loss /1000)\n",
    "            loss_L1.append(running_loss_l1/1000)\n",
    "            running_loss = 0.0\n",
    "            running_loss_l1 = 0.0\n",
    "# torch.save(net.state_dict(), f'saved_models/{epoch}.pt') \n",
    "        # torch.save(net.state_dict(), f'saved_models/{epoch}.pt')\n",
    "\n",
    "print('Finished Training')"
   ]
  },
  {
   "cell_type": "code",
   "execution_count": 7,
   "metadata": {},
   "outputs": [],
   "source": [
    "savednet.save_state(\"autoencoder_saved/ae1.pt\")"
   ]
  },
  {
   "cell_type": "code",
   "execution_count": 8,
   "metadata": {},
   "outputs": [
    {
     "data": {
      "image/png": "[encoded data removed]",
      "text/plain": [
       "<Figure size 432x288 with 1 Axes>"
      ]
     },
     "metadata": {
      "needs_background": "light"
     },
     "output_type": "display_data"
    }
   ],
   "source": [
    "final_loss = np.array(loss_a1)\n",
    "plt.plot(final_loss)\n",
    "plt.show()"
   ]
  }
 ],
 "metadata": {
  "kernelspec": {
   "display_name": "Python 3.10.5 ('venv': venv)",
   "language": "python",
   "name": "python3"
  },
  "language_info": {
   "codemirror_mode": {
    "name": "ipython",
    "version": 3
   },
   "file_extension": ".py",
   "mimetype": "text/x-python",
   "name": "python",
   "nbconvert_exporter": "python",
   "pygments_lexer": "ipython3",
   "version": "3.10.5"
  },
  "orig_nbformat": 4,
  "vscode": {
   "interpreter": {
    "hash": "e2db06da75207f0b335e9532cc533497eb90d83ed622a6d9d355f2997ed09f04"
   }
  }
 },
 "nbformat": 4,
 "nbformat_minor": 2
}
