{
 "cells": [
  {
   "cell_type": "code",
   "execution_count": 74,
   "metadata": {},
   "outputs": [],
   "source": [
    "import torch\n",
    "import numpy as np\n",
    "import pandas as pd\n",
    "import torch.nn as nn\n",
    "import torch.optim as optim\n",
    "from dataloader import JPXData\n",
    "import helper_functions as hf\n",
    "import matplotlib.pyplot as plt\n",
    "from autoencoder import autoencoder as ae"
   ]
  },
  {
   "cell_type": "code",
   "execution_count": 75,
   "metadata": {},
   "outputs": [],
   "source": [
    "stock_prices = pd.read_csv(\"modified_data/autoencoder_data.csv\")"
   ]
  },
  {
   "cell_type": "code",
   "execution_count": 76,
   "metadata": {},
   "outputs": [],
   "source": [
    "# ~ 3 month testing time frame 2022-01-04 to 2022-04-28\n",
    "train_data = stock_prices[stock_prices[\"Date\"] < '2022-01-04'].copy().reset_index(drop=True)\n",
    "test_data  = stock_prices[stock_prices[\"Date\"] >= '2022-01-04'].copy().reset_index(drop=True)"
   ]
  },
  {
   "cell_type": "code",
   "execution_count": 77,
   "metadata": {},
   "outputs": [],
   "source": [
    "train_class = JPXData(data=train_data, model=\"ae\")\n",
    "trainloader = torch.utils.data.DataLoader(train_class, batch_size=1, shuffle=True, num_workers=5)\n",
    "test_class  = JPXData(data=test_data, model=\"ae\")\n",
    "testloader  = torch.utils.data.DataLoader(test_class, batch_size=1, shuffle=True, num_workers=5)"
   ]
  },
  {
   "cell_type": "code",
   "execution_count": 78,
   "metadata": {},
   "outputs": [],
   "source": [
    "net = ae(e_layers=[69, 60, 50, 40, 30, 25, 20], d_layers=[20, 25, 30, 40, 50, 60, 69]).cuda()"
   ]
  },
  {
   "cell_type": "code",
   "execution_count": 79,
   "metadata": {},
   "outputs": [],
   "source": [
    "criterion = nn.MSELoss().cuda()\n",
    "optimizer = optim.SGD(net.parameters(), lr=1e-4, momentum=0.9)"
   ]
  },
  {
   "cell_type": "code",
   "execution_count": 80,
   "metadata": {},
   "outputs": [
    {
     "name": "stdout",
     "output_type": "stream",
     "text": [
      "[1,  1000] loss: 0.8017404274\n",
      "[2,  1000] loss: 0.7986440708\n",
      "[3,  1000] loss: 0.7953418345\n",
      "[4,  1000] loss: 0.7869931201\n",
      "[5,  1000] loss: 0.7793430185\n",
      "[6,  1000] loss: 0.7672326139\n",
      "[7,  1000] loss: 0.7471453162\n",
      "[8,  1000] loss: 0.7222991506\n",
      "[9,  1000] loss: 0.6924631490\n",
      "[10,  1000] loss: 0.6590671191\n",
      "[11,  1000] loss: 0.6248017327\n",
      "[12,  1000] loss: 0.5961570278\n",
      "[13,  1000] loss: 0.5692612517\n",
      "[14,  1000] loss: 0.5493568161\n",
      "[15,  1000] loss: 0.5345583777\n",
      "[16,  1000] loss: 0.5258881842\n",
      "[17,  1000] loss: 0.5190865810\n",
      "[18,  1000] loss: 0.5124980113\n",
      "[19,  1000] loss: 0.5072674504\n",
      "[20,  1000] loss: 0.5021690064\n",
      "[21,  1000] loss: 0.4987980314\n",
      "[22,  1000] loss: 0.4971070869\n",
      "[23,  1000] loss: 0.4886905581\n",
      "[24,  1000] loss: 0.4858840983\n",
      "[25,  1000] loss: 0.4835191741\n",
      "[26,  1000] loss: 0.4800120410\n",
      "[27,  1000] loss: 0.4780312824\n",
      "[28,  1000] loss: 0.4783280729\n",
      "[29,  1000] loss: 0.4768804399\n",
      "[30,  1000] loss: 0.4735235122\n",
      "[31,  1000] loss: 0.4733694286\n",
      "[32,  1000] loss: 0.4717417294\n",
      "[33,  1000] loss: 0.4719962355\n",
      "[34,  1000] loss: 0.4692128759\n",
      "[35,  1000] loss: 0.4682379317\n",
      "[36,  1000] loss: 0.4701899525\n"
     ]
    }
   ],
   "source": [
    "loss_a1 = []\n",
    "\n",
    "for epoch in range(400):  # loop over the dataset multiple times\n",
    "\n",
    "    running_loss = 0.0\n",
    "    for i, data in enumerate(trainloader, 0):\n",
    "        # get the inputs; data is a list of [inputs, labels]\n",
    "        inputs, labels, date = data\n",
    "        inputs = inputs.cuda()\n",
    "        labels = labels.cuda()\n",
    "\n",
    "        # zero the parameter gradients\n",
    "        optimizer.zero_grad()\n",
    "        # forward + backward + optimize\n",
    "        outputs = net(inputs)\n",
    "        loss = hf.loss_function(outputs, labels, criterion=nn.L1Loss().cuda())\n",
    "        loss.backward()\n",
    "        optimizer.step()\n",
    "\n",
    "        # print statistics\n",
    "        running_loss += loss.item()\n",
    "    \n",
    "        if i % 1000 == 999:    # print every 2000 mini-batches\n",
    "            print(f'[{epoch + 1}, {i + 1:5d}] loss: {running_loss / 1000:.10f}')\n",
    "            loss_a1.append(running_loss/1000)\n",
    "            running_loss = 0.0\n",
    "        # torch.save(net.state_dict(), f'saved_models/{epoch}.pt')\n",
    "\n",
    "print('Finished Training')"
   ]
  },
  {
   "cell_type": "code",
   "execution_count": null,
   "metadata": {},
   "outputs": [],
   "source": [
    "final_loss = np.array(loss_a1)/2\n",
    "plt.plot(final_loss)\n",
    "plt.show()"
   ]
  },
  {
   "cell_type": "code",
   "execution_count": null,
   "metadata": {},
   "outputs": [],
   "source": []
  }
 ],
 "metadata": {
  "kernelspec": {
   "display_name": "Python 3.10.5 ('venv': venv)",
   "language": "python",
   "name": "python3"
  },
  "language_info": {
   "codemirror_mode": {
    "name": "ipython",
    "version": 3
   },
   "file_extension": ".py",
   "mimetype": "text/x-python",
   "name": "python",
   "nbconvert_exporter": "python",
   "pygments_lexer": "ipython3",
   "version": "3.10.5"
  },
  "orig_nbformat": 4,
  "vscode": {
   "interpreter": {
    "hash": "e2db06da75207f0b335e9532cc533497eb90d83ed622a6d9d355f2997ed09f04"
   }
  }
 },
 "nbformat": 4,
 "nbformat_minor": 2
}
