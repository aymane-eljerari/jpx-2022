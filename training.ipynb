{
 "cells": [
  {
   "cell_type": "code",
   "execution_count": 1,
   "metadata": {},
   "outputs": [
    {
     "name": "stderr",
     "output_type": "stream",
     "text": [
      "/home/aymane/Kaggle/jpx-2022/venv/lib/python3.10/site-packages/tqdm/auto.py:22: TqdmWarning: IProgress not found. Please update jupyter and ipywidgets. See https://ipywidgets.readthedocs.io/en/stable/user_install.html\n",
      "  from .autonotebook import tqdm as notebook_tqdm\n",
      "/home/aymane/Kaggle/jpx-2022/venv/lib/python3.10/site-packages/torch/cuda/__init__.py:82: UserWarning: CUDA initialization: CUDA unknown error - this may be due to an incorrectly set up environment, e.g. changing env variable CUDA_VISIBLE_DEVICES after program start. Setting the available devices to be zero. (Triggered internally at  ../c10/cuda/CUDAFunctions.cpp:112.)\n",
      "  return torch._C._cuda_getDeviceCount() > 0\n"
     ]
    }
   ],
   "source": [
    "import torch\n",
    "import numpy as np\n",
    "import pandas as pd\n",
    "import helper_functions as hf\n",
    "from dataloader import JPXData\n",
    "import matplotlib.pyplot as plt\n",
    "import torch.nn as nn\n",
    "import torch.nn.functional as F\n",
    "import torch.optim as optim\n",
    "from torch.utils.data.dataloader import default_collate\n",
    "from torchvision import transforms\n",
    "from statistics import mean\n",
    "from tqdm import tqdm\n",
    "import itertools\n",
    "\n",
    "pd.set_option('display.max_rows', 100)\n",
    "torch.set_printoptions(profile=\"default\")\n",
    "device = \"cuda\" if torch.cuda.is_available() else \"cpu\""
   ]
  },
  {
   "cell_type": "code",
   "execution_count": 2,
   "metadata": {},
   "outputs": [],
   "source": [
    "# Run this to create the new modified_data folder\n",
    "# ~ 1 min runtime\n",
    "\n",
    "# hf.concat_data()\n",
    "\n",
    "# Run this to tokenize Section/Product and NewMarketSegmentColumns on stock_list.csv\n",
    "# ~ 20 secs runtime\n",
    "\n",
    "# hf.tokenize_stock_list()\n",
    "\n",
    "# Run this to adjust the closing price\n",
    "# ~ 2 mins runtime\n",
    "\n",
    "# hf.adjust_price()"
   ]
  },
  {
   "cell_type": "code",
   "execution_count": 3,
   "metadata": {},
   "outputs": [],
   "source": [
    "stock_prices = pd.read_csv(\"modified_data/stock_prices_adjusted.csv\")"
   ]
  },
  {
   "cell_type": "code",
   "execution_count": 4,
   "metadata": {},
   "outputs": [
    {
     "name": "stdout",
     "output_type": "stream",
     "text": [
      "2370531 157993\n",
      "2528524\n"
     ]
    }
   ],
   "source": [
    "# ~ 3 month testing time frame 2022-01-04 to 2022-04-28\n",
    "train_data = stock_prices[stock_prices[\"Date\"] < '2022-01-04'].copy().reset_index(drop=True)\n",
    "test_data  = stock_prices[stock_prices[\"Date\"] >= '2022-01-04'].copy().reset_index(drop=True)"
   ]
  },
  {
   "cell_type": "code",
   "execution_count": 5,
   "metadata": {},
   "outputs": [],
   "source": [
    "train_class = JPXData(data=train_data)\n",
    "trainloader = torch.utils.data.DataLoader(train_class, batch_size=1, shuffle=True, num_workers=5)\n",
    "test_class  = JPXData(data=test_data, train=False)\n",
    "testloader  = torch.utils.data.DataLoader(JPXData(data=test_data), batch_size=1, shuffle=False, num_workers=5)"
   ]
  },
  {
   "cell_type": "code",
   "execution_count": 6,
   "metadata": {},
   "outputs": [
    {
     "data": {
      "text/html": [
       "<div>\n",
       "<style scoped>\n",
       "    .dataframe tbody tr th:only-of-type {\n",
       "        vertical-align: middle;\n",
       "    }\n",
       "\n",
       "    .dataframe tbody tr th {\n",
       "        vertical-align: top;\n",
       "    }\n",
       "\n",
       "    .dataframe thead th {\n",
       "        text-align: right;\n",
       "    }\n",
       "</style>\n",
       "<table border=\"1\" class=\"dataframe\">\n",
       "  <thead>\n",
       "    <tr style=\"text-align: right;\">\n",
       "      <th></th>\n",
       "      <th>Target</th>\n",
       "      <th>SecuritiesCode</th>\n",
       "    </tr>\n",
       "  </thead>\n",
       "  <tbody>\n",
       "    <tr>\n",
       "      <th>1733</th>\n",
       "      <td>-0.069874</td>\n",
       "      <td>9474</td>\n",
       "    </tr>\n",
       "    <tr>\n",
       "      <th>1856</th>\n",
       "      <td>-0.067387</td>\n",
       "      <td>9983</td>\n",
       "    </tr>\n",
       "    <tr>\n",
       "      <th>1136</th>\n",
       "      <td>-0.062112</td>\n",
       "      <td>6875</td>\n",
       "    </tr>\n",
       "    <tr>\n",
       "      <th>1852</th>\n",
       "      <td>-0.059276</td>\n",
       "      <td>9974</td>\n",
       "    </tr>\n",
       "    <tr>\n",
       "      <th>1078</th>\n",
       "      <td>-0.057514</td>\n",
       "      <td>6707</td>\n",
       "    </tr>\n",
       "    <tr>\n",
       "      <th>...</th>\n",
       "      <td>...</td>\n",
       "      <td>...</td>\n",
       "    </tr>\n",
       "    <tr>\n",
       "      <th>1695</th>\n",
       "      <td>0.094378</td>\n",
       "      <td>9233</td>\n",
       "    </tr>\n",
       "    <tr>\n",
       "      <th>404</th>\n",
       "      <td>0.098553</td>\n",
       "      <td>3547</td>\n",
       "    </tr>\n",
       "    <tr>\n",
       "      <th>1000</th>\n",
       "      <td>0.104668</td>\n",
       "      <td>6425</td>\n",
       "    </tr>\n",
       "    <tr>\n",
       "      <th>1297</th>\n",
       "      <td>0.106332</td>\n",
       "      <td>7600</td>\n",
       "    </tr>\n",
       "    <tr>\n",
       "      <th>457</th>\n",
       "      <td>0.175676</td>\n",
       "      <td>3825</td>\n",
       "    </tr>\n",
       "  </tbody>\n",
       "</table>\n",
       "<p>1865 rows × 2 columns</p>\n",
       "</div>"
      ],
      "text/plain": [
       "        Target  SecuritiesCode\n",
       "1733 -0.069874            9474\n",
       "1856 -0.067387            9983\n",
       "1136 -0.062112            6875\n",
       "1852 -0.059276            9974\n",
       "1078 -0.057514            6707\n",
       "...        ...             ...\n",
       "1695  0.094378            9233\n",
       "404   0.098553            3547\n",
       "1000  0.104668            6425\n",
       "1297  0.106332            7600\n",
       "457   0.175676            3825\n",
       "\n",
       "[1865 rows x 2 columns]"
      ]
     },
     "execution_count": 6,
     "metadata": {},
     "output_type": "execute_result"
    }
   ],
   "source": [
    "# Ranking Securities Codes by rate of change from t+1 to t+2\n",
    "stock_prices = pd.read_csv(\"modified_data/stock_prices.csv\")\n",
    "date = \"2017-01-04\"\n",
    "targets = stock_prices.query(\"Date == @date\")[[\"Target\", \"SecuritiesCode\"]].fillna(0)\n",
    "df = targets.sort_values(by=\"Target\")\n",
    "df"
   ]
  },
  {
   "cell_type": "code",
   "execution_count": 7,
   "metadata": {},
   "outputs": [
    {
     "name": "stdout",
     "output_type": "stream",
     "text": [
      "(tensor([-0.8932, -0.1361,  0.3141,  ...,  0.6294, -1.1694, -0.7577]), tensor([ 0.0007,  0.0123,  0.0062,  ...,  0.0150, -0.0011,  0.0075]), ['2017-01-04'])\n"
     ]
    }
   ],
   "source": [
    "a = train_class\n",
    "print(a[0])"
   ]
  },
  {
   "cell_type": "code",
   "execution_count": 8,
   "metadata": {},
   "outputs": [
    {
     "name": "stdout",
     "output_type": "stream",
     "text": [
      "Date\n",
      "2022-01-04    2000\n",
      "2022-01-05    2000\n",
      "2022-01-06    2000\n",
      "2022-01-07    2000\n",
      "2022-01-11    2000\n",
      "2022-01-12    2000\n",
      "2022-01-13    2000\n",
      "2022-01-14    2000\n",
      "2022-01-17    2000\n",
      "2022-01-18    2000\n",
      "2022-01-19    2000\n",
      "2022-01-20    2000\n",
      "2022-01-21    2000\n",
      "2022-01-24    2000\n",
      "2022-01-25    2000\n",
      "2022-01-26    2000\n",
      "2022-01-27    2000\n",
      "2022-01-28    2000\n",
      "2022-01-31    2000\n",
      "2022-02-01    2000\n",
      "2022-02-02    2000\n",
      "2022-02-03    2000\n",
      "2022-02-04    2000\n",
      "2022-02-07    2000\n",
      "2022-02-08    2000\n",
      "2022-02-09    2000\n",
      "2022-02-10    2000\n",
      "2022-02-14    2000\n",
      "2022-02-15    2000\n",
      "2022-02-16    2000\n",
      "2022-02-17    2000\n",
      "2022-02-18    2000\n",
      "2022-02-21    2000\n",
      "2022-02-22    2000\n",
      "2022-02-24    2000\n",
      "2022-02-25    2000\n",
      "2022-02-28    2000\n",
      "2022-03-01    2000\n",
      "2022-03-02    2000\n",
      "2022-03-03    2000\n",
      "2022-03-04    2000\n",
      "2022-03-07    2000\n",
      "2022-03-08    2000\n",
      "2022-03-09    2000\n",
      "2022-03-10    2000\n",
      "2022-03-11    2000\n",
      "2022-03-14    2000\n",
      "2022-03-15    2000\n",
      "2022-03-16    2000\n",
      "2022-03-17    2000\n",
      "2022-03-18    2000\n",
      "2022-03-22    2000\n",
      "2022-03-23    2000\n",
      "2022-03-24    2000\n",
      "2022-03-25    2000\n",
      "2022-03-28    2000\n",
      "2022-03-29    2000\n",
      "2022-03-30    2000\n",
      "2022-03-31    2000\n",
      "2022-04-01    2000\n",
      "2022-04-04    2000\n",
      "2022-04-05    2000\n",
      "2022-04-06    2000\n",
      "2022-04-07    2000\n",
      "2022-04-08    2000\n",
      "2022-04-11    2000\n",
      "2022-04-12    2000\n",
      "2022-04-13    2000\n",
      "2022-04-14    2000\n",
      "2022-04-15    2000\n",
      "2022-04-18    2000\n",
      "2022-04-19    2000\n",
      "2022-04-20    2000\n",
      "2022-04-21    2000\n",
      "2022-04-22    2000\n",
      "2022-04-25    1999\n",
      "2022-04-26    1998\n",
      "2022-04-27    1998\n",
      "2022-04-28    1998\n",
      "dtype: int64\n"
     ]
    }
   ],
   "source": [
    "a = test_data.groupby(\"Date\").size() \n",
    "print(a)"
   ]
  },
  {
   "cell_type": "code",
   "execution_count": 9,
   "metadata": {},
   "outputs": [],
   "source": [
    "# # Verifying if the ranking is the same\n",
    "# securities_codes    = stock_prices[\"SecuritiesCode\"]\n",
    "# securities_list     = sorted(list(set(securities_codes)))\n",
    "# securities_dict     = {i: securities_list.index(i) for i in securities_list}\n",
    "\n",
    "# a = dataloader[0][1]\n",
    "# sorted_args = torch.argsort(a, descending=True)\n",
    "# securities_sort = [list(securities_dict.keys())[list(securities_dict.values()).index(i)] for i in sorted_args]\n",
    "# print(securities_sort)"
   ]
  },
  {
   "cell_type": "code",
   "execution_count": 10,
   "metadata": {},
   "outputs": [],
   "source": [
    "class Net(nn.Module):\n",
    "    def __init__(self):\n",
    "        super().__init__()\n",
    "        self.layer_stack = nn.Sequential(\n",
    "            nn.Linear(2000, 2500),\n",
    "            nn.LeakyReLU(negative_slope=0.1),\n",
    "            nn.Linear(2500, 1500),\n",
    "            nn.LeakyReLU(negative_slope=0.1),\n",
    "            nn.Linear(1500, 1000),\n",
    "            nn.LeakyReLU(negative_slope=0.1),\n",
    "            nn.Linear(1000, 1500),\n",
    "            nn.LeakyReLU(negative_slope=0.1),\n",
    "            nn.Linear(1500, 2000),\n",
    "        )\n",
    "\n",
    "    def forward(self, x):\n",
    "        output = self.layer_stack(x)\n",
    "        return output"
   ]
  },
  {
   "cell_type": "code",
   "execution_count": 12,
   "metadata": {},
   "outputs": [
    {
     "ename": "RuntimeError",
     "evalue": "CUDA unknown error - this may be due to an incorrectly set up environment, e.g. changing env variable CUDA_VISIBLE_DEVICES after program start. Setting the available devices to be zero.",
     "output_type": "error",
     "traceback": [
      "\u001b[0;31m---------------------------------------------------------------------------\u001b[0m",
      "\u001b[0;31mRuntimeError\u001b[0m                              Traceback (most recent call last)",
      "\u001b[1;32m/home/aymane/Kaggle/jpx-2022/training.ipynb Cell 11'\u001b[0m in \u001b[0;36m<cell line: 1>\u001b[0;34m()\u001b[0m\n\u001b[0;32m----> <a href='vscode-notebook-cell:/home/aymane/Kaggle/jpx-2022/training.ipynb#ch0000008?line=0'>1</a>\u001b[0m net \u001b[39m=\u001b[39m Net()\u001b[39m.\u001b[39;49mcuda()\n",
      "File \u001b[0;32m~/Kaggle/jpx-2022/venv/lib/python3.10/site-packages/torch/nn/modules/module.py:688\u001b[0m, in \u001b[0;36mModule.cuda\u001b[0;34m(self, device)\u001b[0m\n\u001b[1;32m    671\u001b[0m \u001b[39mdef\u001b[39;00m \u001b[39mcuda\u001b[39m(\u001b[39mself\u001b[39m: T, device: Optional[Union[\u001b[39mint\u001b[39m, device]] \u001b[39m=\u001b[39m \u001b[39mNone\u001b[39;00m) \u001b[39m-\u001b[39m\u001b[39m>\u001b[39m T:\n\u001b[1;32m    672\u001b[0m     \u001b[39mr\u001b[39m\u001b[39m\"\"\"Moves all model parameters and buffers to the GPU.\u001b[39;00m\n\u001b[1;32m    673\u001b[0m \n\u001b[1;32m    674\u001b[0m \u001b[39m    This also makes associated parameters and buffers different objects. So\u001b[39;00m\n\u001b[0;32m   (...)\u001b[0m\n\u001b[1;32m    686\u001b[0m \u001b[39m        Module: self\u001b[39;00m\n\u001b[1;32m    687\u001b[0m \u001b[39m    \"\"\"\u001b[39;00m\n\u001b[0;32m--> 688\u001b[0m     \u001b[39mreturn\u001b[39;00m \u001b[39mself\u001b[39;49m\u001b[39m.\u001b[39;49m_apply(\u001b[39mlambda\u001b[39;49;00m t: t\u001b[39m.\u001b[39;49mcuda(device))\n",
      "File \u001b[0;32m~/Kaggle/jpx-2022/venv/lib/python3.10/site-packages/torch/nn/modules/module.py:578\u001b[0m, in \u001b[0;36mModule._apply\u001b[0;34m(self, fn)\u001b[0m\n\u001b[1;32m    576\u001b[0m \u001b[39mdef\u001b[39;00m \u001b[39m_apply\u001b[39m(\u001b[39mself\u001b[39m, fn):\n\u001b[1;32m    577\u001b[0m     \u001b[39mfor\u001b[39;00m module \u001b[39min\u001b[39;00m \u001b[39mself\u001b[39m\u001b[39m.\u001b[39mchildren():\n\u001b[0;32m--> 578\u001b[0m         module\u001b[39m.\u001b[39;49m_apply(fn)\n\u001b[1;32m    580\u001b[0m     \u001b[39mdef\u001b[39;00m \u001b[39mcompute_should_use_set_data\u001b[39m(tensor, tensor_applied):\n\u001b[1;32m    581\u001b[0m         \u001b[39mif\u001b[39;00m torch\u001b[39m.\u001b[39m_has_compatible_shallow_copy_type(tensor, tensor_applied):\n\u001b[1;32m    582\u001b[0m             \u001b[39m# If the new tensor has compatible tensor type as the existing tensor,\u001b[39;00m\n\u001b[1;32m    583\u001b[0m             \u001b[39m# the current behavior is to change the tensor in-place using `.data =`,\u001b[39;00m\n\u001b[0;32m   (...)\u001b[0m\n\u001b[1;32m    588\u001b[0m             \u001b[39m# global flag to let the user control whether they want the future\u001b[39;00m\n\u001b[1;32m    589\u001b[0m             \u001b[39m# behavior of overwriting the existing tensor or not.\u001b[39;00m\n",
      "File \u001b[0;32m~/Kaggle/jpx-2022/venv/lib/python3.10/site-packages/torch/nn/modules/module.py:578\u001b[0m, in \u001b[0;36mModule._apply\u001b[0;34m(self, fn)\u001b[0m\n\u001b[1;32m    576\u001b[0m \u001b[39mdef\u001b[39;00m \u001b[39m_apply\u001b[39m(\u001b[39mself\u001b[39m, fn):\n\u001b[1;32m    577\u001b[0m     \u001b[39mfor\u001b[39;00m module \u001b[39min\u001b[39;00m \u001b[39mself\u001b[39m\u001b[39m.\u001b[39mchildren():\n\u001b[0;32m--> 578\u001b[0m         module\u001b[39m.\u001b[39;49m_apply(fn)\n\u001b[1;32m    580\u001b[0m     \u001b[39mdef\u001b[39;00m \u001b[39mcompute_should_use_set_data\u001b[39m(tensor, tensor_applied):\n\u001b[1;32m    581\u001b[0m         \u001b[39mif\u001b[39;00m torch\u001b[39m.\u001b[39m_has_compatible_shallow_copy_type(tensor, tensor_applied):\n\u001b[1;32m    582\u001b[0m             \u001b[39m# If the new tensor has compatible tensor type as the existing tensor,\u001b[39;00m\n\u001b[1;32m    583\u001b[0m             \u001b[39m# the current behavior is to change the tensor in-place using `.data =`,\u001b[39;00m\n\u001b[0;32m   (...)\u001b[0m\n\u001b[1;32m    588\u001b[0m             \u001b[39m# global flag to let the user control whether they want the future\u001b[39;00m\n\u001b[1;32m    589\u001b[0m             \u001b[39m# behavior of overwriting the existing tensor or not.\u001b[39;00m\n",
      "File \u001b[0;32m~/Kaggle/jpx-2022/venv/lib/python3.10/site-packages/torch/nn/modules/module.py:601\u001b[0m, in \u001b[0;36mModule._apply\u001b[0;34m(self, fn)\u001b[0m\n\u001b[1;32m    597\u001b[0m \u001b[39m# Tensors stored in modules are graph leaves, and we don't want to\u001b[39;00m\n\u001b[1;32m    598\u001b[0m \u001b[39m# track autograd history of `param_applied`, so we have to use\u001b[39;00m\n\u001b[1;32m    599\u001b[0m \u001b[39m# `with torch.no_grad():`\u001b[39;00m\n\u001b[1;32m    600\u001b[0m \u001b[39mwith\u001b[39;00m torch\u001b[39m.\u001b[39mno_grad():\n\u001b[0;32m--> 601\u001b[0m     param_applied \u001b[39m=\u001b[39m fn(param)\n\u001b[1;32m    602\u001b[0m should_use_set_data \u001b[39m=\u001b[39m compute_should_use_set_data(param, param_applied)\n\u001b[1;32m    603\u001b[0m \u001b[39mif\u001b[39;00m should_use_set_data:\n",
      "File \u001b[0;32m~/Kaggle/jpx-2022/venv/lib/python3.10/site-packages/torch/nn/modules/module.py:688\u001b[0m, in \u001b[0;36mModule.cuda.<locals>.<lambda>\u001b[0;34m(t)\u001b[0m\n\u001b[1;32m    671\u001b[0m \u001b[39mdef\u001b[39;00m \u001b[39mcuda\u001b[39m(\u001b[39mself\u001b[39m: T, device: Optional[Union[\u001b[39mint\u001b[39m, device]] \u001b[39m=\u001b[39m \u001b[39mNone\u001b[39;00m) \u001b[39m-\u001b[39m\u001b[39m>\u001b[39m T:\n\u001b[1;32m    672\u001b[0m     \u001b[39mr\u001b[39m\u001b[39m\"\"\"Moves all model parameters and buffers to the GPU.\u001b[39;00m\n\u001b[1;32m    673\u001b[0m \n\u001b[1;32m    674\u001b[0m \u001b[39m    This also makes associated parameters and buffers different objects. So\u001b[39;00m\n\u001b[0;32m   (...)\u001b[0m\n\u001b[1;32m    686\u001b[0m \u001b[39m        Module: self\u001b[39;00m\n\u001b[1;32m    687\u001b[0m \u001b[39m    \"\"\"\u001b[39;00m\n\u001b[0;32m--> 688\u001b[0m     \u001b[39mreturn\u001b[39;00m \u001b[39mself\u001b[39m\u001b[39m.\u001b[39m_apply(\u001b[39mlambda\u001b[39;00m t: t\u001b[39m.\u001b[39;49mcuda(device))\n",
      "File \u001b[0;32m~/Kaggle/jpx-2022/venv/lib/python3.10/site-packages/torch/cuda/__init__.py:216\u001b[0m, in \u001b[0;36m_lazy_init\u001b[0;34m()\u001b[0m\n\u001b[1;32m    212\u001b[0m     \u001b[39mraise\u001b[39;00m \u001b[39mAssertionError\u001b[39;00m(\n\u001b[1;32m    213\u001b[0m         \u001b[39m\"\u001b[39m\u001b[39mlibcudart functions unavailable. It looks like you have a broken build?\u001b[39m\u001b[39m\"\u001b[39m)\n\u001b[1;32m    214\u001b[0m \u001b[39m# This function throws if there's a driver initialization error, no GPUs\u001b[39;00m\n\u001b[1;32m    215\u001b[0m \u001b[39m# are found or any other error occurs\u001b[39;00m\n\u001b[0;32m--> 216\u001b[0m torch\u001b[39m.\u001b[39;49m_C\u001b[39m.\u001b[39;49m_cuda_init()\n\u001b[1;32m    217\u001b[0m \u001b[39m# Some of the queued calls may reentrantly call _lazy_init();\u001b[39;00m\n\u001b[1;32m    218\u001b[0m \u001b[39m# we need to just return without initializing in that case.\u001b[39;00m\n\u001b[1;32m    219\u001b[0m \u001b[39m# However, we must not let any *other* threads in!\u001b[39;00m\n\u001b[1;32m    220\u001b[0m _tls\u001b[39m.\u001b[39mis_initializing \u001b[39m=\u001b[39m \u001b[39mTrue\u001b[39;00m\n",
      "\u001b[0;31mRuntimeError\u001b[0m: CUDA unknown error - this may be due to an incorrectly set up environment, e.g. changing env variable CUDA_VISIBLE_DEVICES after program start. Setting the available devices to be zero."
     ]
    }
   ],
   "source": [
    "net = Net().cuda()"
   ]
  },
  {
   "cell_type": "code",
   "execution_count": null,
   "metadata": {},
   "outputs": [],
   "source": [
    "criterion = nn.MSELoss().cuda()\n",
    "optimizer = optim.SGD(net.parameters(), lr=1e-2, momentum=0.9)"
   ]
  },
  {
   "cell_type": "code",
   "execution_count": null,
   "metadata": {},
   "outputs": [
    {
     "name": "stdout",
     "output_type": "stream",
     "text": [
      "[1,   100] loss: 0.0018934137\n",
      "[1,   200] loss: 0.0013483496\n",
      "[1,   300] loss: 0.0014332096\n",
      "[1,   400] loss: 0.0015621669\n",
      "[1,   500] loss: 0.0015570167\n",
      "[1,   600] loss: 0.0013128131\n",
      "[1,   700] loss: 0.0014049261\n",
      "[1,   800] loss: 0.0013596762\n",
      "[1,   900] loss: 0.0014832263\n",
      "[1,  1000] loss: 0.0013873086\n",
      "[1,  1100] loss: 0.0013539492\n",
      "[1,  1200] loss: 0.0012562470\n",
      "[2,   100] loss: 0.0016429460\n",
      "[2,   200] loss: 0.0013551116\n",
      "[2,   300] loss: 0.0013848762\n",
      "[2,   400] loss: 0.0014038488\n",
      "[2,   500] loss: 0.0015039636\n",
      "[2,   600] loss: 0.0015376102\n",
      "[2,   700] loss: 0.0014714891\n",
      "[2,   800] loss: 0.0011933568\n",
      "[2,   900] loss: 0.0013591025\n",
      "[2,  1000] loss: 0.0012396148\n",
      "[2,  1100] loss: 0.0011590920\n",
      "[2,  1200] loss: 0.0012061297\n",
      "Finished Training\n"
     ]
    }
   ],
   "source": [
    "loss_a1 = []\n",
    "\n",
    "for epoch in range(2):  # loop over the dataset multiple times\n",
    "\n",
    "    running_loss = 0.0\n",
    "    for i, data in enumerate(trainloader, 0):\n",
    "        # get the inputs; data is a list of [inputs, labels]\n",
    "        inputs, labels, date = data\n",
    "        inputs = inputs.cuda()\n",
    "        labels = labels.cuda()\n",
    "\n",
    "        # zero the parameter gradients\n",
    "        optimizer.zero_grad()\n",
    "\n",
    "        # forward + backward + optimize\n",
    "        outputs = net(inputs)\n",
    "        loss = hf.loss_function(outputs * 10, labels * 10, criterion=nn.HuberLoss(delta=5))\n",
    "        loss.backward()\n",
    "        # torch.nn.utils.clip_grad_norm_(net.parameters(), 1.5)\n",
    "        optimizer.step()\n",
    "\n",
    "        # print statistics\n",
    "        running_loss += loss.item()\n",
    "        loss_a1.append(running_loss)\n",
    "        if i % 100 == 99:    # print every 2000 mini-batches\n",
    "            print(f'[{epoch + 1}, {i + 1:5d}] loss: {running_loss / 2000:.10f}')\n",
    "            running_loss = 0.0\n",
    "        # torch.save(net.state_dict(), f'saved_models/{epoch}.pt')\n",
    "\n",
    "print('Finished Training')"
   ]
  },
  {
   "cell_type": "code",
   "execution_count": null,
   "metadata": {},
   "outputs": [
    {
     "data": {
      "image/png": "[encoded data removed]",
      "text/plain": [
       "<Figure size 432x288 with 1 Axes>"
      ]
     },
     "metadata": {
      "needs_background": "light"
     },
     "output_type": "display_data"
    }
   ],
   "source": [
    "plt.plot(loss_a1)\n",
    "plt.show()"
   ]
  },
  {
   "cell_type": "code",
   "execution_count": null,
   "metadata": {},
   "outputs": [
    {
     "name": "stderr",
     "output_type": "stream",
     "text": [
      "100%|██████████| 79/79 [00:00<00:00, 374.82it/s]"
     ]
    },
    {
     "name": "stdout",
     "output_type": "stream",
     "text": [
      "              Date  SecuritiesCode  Prediction    Target\n",
      "0       2022-01-04            1301    0.006119 -0.011254\n",
      "1       2022-01-04            1332    0.007194 -0.017857\n",
      "2       2022-01-04            1333   -0.013367 -0.017087\n",
      "3       2022-01-04            1375   -0.004882 -0.008210\n",
      "4       2022-01-04            1376   -0.001395 -0.003968\n",
      "...            ...             ...         ...       ...\n",
      "157995  2022-04-28            9990    0.002067  0.024048\n",
      "157996  2022-04-28            9991    0.001737  0.011378\n",
      "157997  2022-04-28            9993   -0.005027 -0.005941\n",
      "157998  2022-04-28            9994   -0.000009  0.005602\n",
      "157999  2022-04-28            9997    0.004830 -0.013680\n",
      "\n",
      "[158000 rows x 4 columns]\n"
     ]
    },
    {
     "name": "stderr",
     "output_type": "stream",
     "text": [
      "\n"
     ]
    }
   ],
   "source": [
    "pred_df = pd.DataFrame()\n",
    "dates = []\n",
    "securities = []\n",
    "preds = []\n",
    "targets = []\n",
    "\n",
    "stock_ids = test_class.stock_id.tolist()\n",
    "\n",
    "for X, target, date in tqdm(test_class):\n",
    "    X = X.cuda()\n",
    "    pred = net(X)\n",
    "\n",
    "    target_list = target.tolist()\n",
    "\n",
    "    dates.append(date*2000)\n",
    "    securities.append(stock_ids)\n",
    "    preds.append(pred.tolist())\n",
    "    targets.append(target_list)\n",
    "\n",
    "    new_dates = list(itertools.chain.from_iterable(dates))\n",
    "    new_securities = list(itertools.chain.from_iterable(securities))\n",
    "    new_preds = list(itertools.chain.from_iterable(preds))\n",
    "    new_targets = list(itertools.chain.from_iterable(targets))\n",
    "\n",
    "pred_df[\"Date\"] = new_dates\n",
    "pred_df[\"SecuritiesCode\"] = new_securities\n",
    "pred_df[\"Prediction\"] = new_preds\n",
    "pred_df[\"Target\"] = new_targets\n",
    "print(pred_df)\n",
    "# predictions = pd.DataFrame(list(zip(dates, securitiescodes, targets)), columns=[\"Date\", \"SecuritiesCode\", \"Target\"]"
   ]
  },
  {
   "cell_type": "code",
   "execution_count": null,
   "metadata": {},
   "outputs": [
    {
     "name": "stderr",
     "output_type": "stream",
     "text": [
      "  0%|          | 0/79 [00:04<?, ?it/s]\n"
     ]
    },
    {
     "ename": "NameError",
     "evalue": "name 'securities_list' is not defined",
     "output_type": "error",
     "traceback": [
      "\u001b[0;31m---------------------------------------------------------------------------\u001b[0m",
      "\u001b[0;31mNameError\u001b[0m                                 Traceback (most recent call last)",
      "\u001b[1;32m/home/aymane/Kaggle/jpx-2022/training.ipynb Cell 16'\u001b[0m in \u001b[0;36m<cell line: 5>\u001b[0;34m()\u001b[0m\n\u001b[1;32m      <a href='vscode-notebook-cell:/home/aymane/Kaggle/jpx-2022/training.ipynb#ch0000020?line=5'>6</a>\u001b[0m     sorted_args \u001b[39m=\u001b[39m torch\u001b[39m.\u001b[39margsort(torch\u001b[39m.\u001b[39mtensor(\u001b[39mlist\u001b[39m(i[\u001b[39m1\u001b[39m][\u001b[39m\"\u001b[39m\u001b[39mPrediction\u001b[39m\u001b[39m\"\u001b[39m])), descending\u001b[39m=\u001b[39m\u001b[39mTrue\u001b[39;00m)\n\u001b[1;32m      <a href='vscode-notebook-cell:/home/aymane/Kaggle/jpx-2022/training.ipynb#ch0000020?line=6'>7</a>\u001b[0m     securities_sort \u001b[39m=\u001b[39m [\u001b[39mlist\u001b[39m(securities_dict\u001b[39m.\u001b[39mkeys())[\u001b[39mlist\u001b[39m(securities_dict\u001b[39m.\u001b[39mvalues())\u001b[39m.\u001b[39mindex(i)] \u001b[39mfor\u001b[39;00m i \u001b[39min\u001b[39;00m sorted_args]\n\u001b[0;32m----> <a href='vscode-notebook-cell:/home/aymane/Kaggle/jpx-2022/training.ipynb#ch0000020?line=7'>8</a>\u001b[0m     sorted_ranks \u001b[39m=\u001b[39m [securities_sort\u001b[39m.\u001b[39mindex(i) \u001b[39mfor\u001b[39;00m i \u001b[39min\u001b[39;00m securities_list]\n\u001b[1;32m      <a href='vscode-notebook-cell:/home/aymane/Kaggle/jpx-2022/training.ipynb#ch0000020?line=8'>9</a>\u001b[0m     rank\u001b[39m.\u001b[39mappend(sorted_ranks)\n\u001b[1;32m     <a href='vscode-notebook-cell:/home/aymane/Kaggle/jpx-2022/training.ipynb#ch0000020?line=10'>11</a>\u001b[0m new_rank \u001b[39m=\u001b[39m \u001b[39mlist\u001b[39m(itertools\u001b[39m.\u001b[39mchain\u001b[39m.\u001b[39mfrom_iterable(rank))\n",
      "\u001b[0;31mNameError\u001b[0m: name 'securities_list' is not defined"
     ]
    }
   ],
   "source": [
    "dates = pred_df.groupby(\"Date\")\n",
    "\n",
    "securities_dict = {i: stock_ids.index(i) for i in stock_ids}\n",
    "rank = []\n",
    "for i in tqdm(dates):\n",
    "    sorted_args = torch.argsort(torch.tensor(list(i[1][\"Prediction\"])), descending=True)\n",
    "    securities_sort = [list(securities_dict.keys())[list(securities_dict.values()).index(i)] for i in sorted_args]\n",
    "    sorted_ranks = [securities_sort.index(i) for i in stock_ids]\n",
    "    rank.append(sorted_ranks)\n",
    "\n",
    "new_rank = list(itertools.chain.from_iterable(rank))\n",
    "pred_df[\"Rank\"] = new_rank"
   ]
  },
  {
   "cell_type": "code",
   "execution_count": null,
   "metadata": {},
   "outputs": [
    {
     "data": {
      "text/html": [
       "<div>\n",
       "<style scoped>\n",
       "    .dataframe tbody tr th:only-of-type {\n",
       "        vertical-align: middle;\n",
       "    }\n",
       "\n",
       "    .dataframe tbody tr th {\n",
       "        vertical-align: top;\n",
       "    }\n",
       "\n",
       "    .dataframe thead th {\n",
       "        text-align: right;\n",
       "    }\n",
       "</style>\n",
       "<table border=\"1\" class=\"dataframe\">\n",
       "  <thead>\n",
       "    <tr style=\"text-align: right;\">\n",
       "      <th></th>\n",
       "      <th>Date</th>\n",
       "      <th>SecuritiesCode</th>\n",
       "      <th>Prediction</th>\n",
       "      <th>Target</th>\n",
       "      <th>Rank</th>\n",
       "    </tr>\n",
       "  </thead>\n",
       "  <tbody>\n",
       "    <tr>\n",
       "      <th>0</th>\n",
       "      <td>2022-01-04</td>\n",
       "      <td>1301</td>\n",
       "      <td>0.006119</td>\n",
       "      <td>-0.011254</td>\n",
       "      <td>1775</td>\n",
       "    </tr>\n",
       "    <tr>\n",
       "      <th>1</th>\n",
       "      <td>2022-01-04</td>\n",
       "      <td>1332</td>\n",
       "      <td>0.007194</td>\n",
       "      <td>-0.017857</td>\n",
       "      <td>6875</td>\n",
       "    </tr>\n",
       "    <tr>\n",
       "      <th>2</th>\n",
       "      <td>2022-01-04</td>\n",
       "      <td>1333</td>\n",
       "      <td>-0.013367</td>\n",
       "      <td>-0.017087</td>\n",
       "      <td>4574</td>\n",
       "    </tr>\n",
       "    <tr>\n",
       "      <th>3</th>\n",
       "      <td>2022-01-04</td>\n",
       "      <td>1375</td>\n",
       "      <td>-0.004882</td>\n",
       "      <td>-0.008210</td>\n",
       "      <td>8219</td>\n",
       "    </tr>\n",
       "    <tr>\n",
       "      <th>4</th>\n",
       "      <td>2022-01-04</td>\n",
       "      <td>1376</td>\n",
       "      <td>-0.001395</td>\n",
       "      <td>-0.003968</td>\n",
       "      <td>7094</td>\n",
       "    </tr>\n",
       "    <tr>\n",
       "      <th>...</th>\n",
       "      <td>...</td>\n",
       "      <td>...</td>\n",
       "      <td>...</td>\n",
       "      <td>...</td>\n",
       "      <td>...</td>\n",
       "    </tr>\n",
       "    <tr>\n",
       "      <th>157995</th>\n",
       "      <td>2022-04-28</td>\n",
       "      <td>9990</td>\n",
       "      <td>0.002067</td>\n",
       "      <td>0.024048</td>\n",
       "      <td>8628</td>\n",
       "    </tr>\n",
       "    <tr>\n",
       "      <th>157996</th>\n",
       "      <td>2022-04-28</td>\n",
       "      <td>9991</td>\n",
       "      <td>0.001737</td>\n",
       "      <td>0.011378</td>\n",
       "      <td>4538</td>\n",
       "    </tr>\n",
       "    <tr>\n",
       "      <th>157997</th>\n",
       "      <td>2022-04-28</td>\n",
       "      <td>9993</td>\n",
       "      <td>-0.005027</td>\n",
       "      <td>-0.005941</td>\n",
       "      <td>9434</td>\n",
       "    </tr>\n",
       "    <tr>\n",
       "      <th>157998</th>\n",
       "      <td>2022-04-28</td>\n",
       "      <td>9994</td>\n",
       "      <td>-0.000009</td>\n",
       "      <td>0.005602</td>\n",
       "      <td>8016</td>\n",
       "    </tr>\n",
       "    <tr>\n",
       "      <th>157999</th>\n",
       "      <td>2022-04-28</td>\n",
       "      <td>9997</td>\n",
       "      <td>0.004830</td>\n",
       "      <td>-0.013680</td>\n",
       "      <td>4044</td>\n",
       "    </tr>\n",
       "  </tbody>\n",
       "</table>\n",
       "<p>158000 rows × 5 columns</p>\n",
       "</div>"
      ],
      "text/plain": [
       "              Date  SecuritiesCode  Prediction    Target  Rank\n",
       "0       2022-01-04            1301    0.006119 -0.011254  1775\n",
       "1       2022-01-04            1332    0.007194 -0.017857  6875\n",
       "2       2022-01-04            1333   -0.013367 -0.017087  4574\n",
       "3       2022-01-04            1375   -0.004882 -0.008210  8219\n",
       "4       2022-01-04            1376   -0.001395 -0.003968  7094\n",
       "...            ...             ...         ...       ...   ...\n",
       "157995  2022-04-28            9990    0.002067  0.024048  8628\n",
       "157996  2022-04-28            9991    0.001737  0.011378  4538\n",
       "157997  2022-04-28            9993   -0.005027 -0.005941  9434\n",
       "157998  2022-04-28            9994   -0.000009  0.005602  8016\n",
       "157999  2022-04-28            9997    0.004830 -0.013680  4044\n",
       "\n",
       "[158000 rows x 5 columns]"
      ]
     },
     "execution_count": 17,
     "metadata": {},
     "output_type": "execute_result"
    }
   ],
   "source": [
    "pred_df\n",
    "# pred_df.drop(columns=[\"Prediction\"])"
   ]
  },
  {
   "cell_type": "code",
   "execution_count": null,
   "metadata": {},
   "outputs": [
    {
     "name": "stdout",
     "output_type": "stream",
     "text": [
      "<pandas.core.groupby.generic.DataFrameGroupBy object at 0x7f9a77b91930>\n",
      "min: 1301, max: 9997\n"
     ]
    },
    {
     "ename": "AssertionError",
     "evalue": "",
     "output_type": "error",
     "traceback": [
      "\u001b[0;31m---------------------------------------------------------------------------\u001b[0m",
      "\u001b[0;31mAssertionError\u001b[0m                            Traceback (most recent call last)",
      "\u001b[1;32m/home/aymane/Kaggle/jpx-2022/training.ipynb Cell 18'\u001b[0m in \u001b[0;36m<cell line: 1>\u001b[0;34m()\u001b[0m\n\u001b[0;32m----> <a href='vscode-notebook-cell:/home/aymane/Kaggle/jpx-2022/training.ipynb#ch0000028?line=0'>1</a>\u001b[0m hf\u001b[39m.\u001b[39;49mcalc_spread_return_sharpe(pred_df)\n",
      "File \u001b[0;32m~/Kaggle/jpx-2022/helper_functions/calc_sharpe.py:32\u001b[0m, in \u001b[0;36mcalc_spread_return_sharpe\u001b[0;34m(df, portfolio_size, toprank_weight_ratio)\u001b[0m\n\u001b[1;32m     29\u001b[0m     \u001b[39mreturn\u001b[39;00m purchase \u001b[39m-\u001b[39m short\n\u001b[1;32m     31\u001b[0m \u001b[39mprint\u001b[39m(df\u001b[39m.\u001b[39mgroupby(\u001b[39m'\u001b[39m\u001b[39mDate\u001b[39m\u001b[39m'\u001b[39m))\n\u001b[0;32m---> 32\u001b[0m buf \u001b[39m=\u001b[39m df\u001b[39m.\u001b[39;49mgroupby(\u001b[39m'\u001b[39;49m\u001b[39mDate\u001b[39;49m\u001b[39m'\u001b[39;49m)\u001b[39m.\u001b[39;49mapply(_calc_spread_return_per_day, portfolio_size, toprank_weight_ratio)\n\u001b[1;32m     33\u001b[0m sharpe_ratio \u001b[39m=\u001b[39m buf\u001b[39m.\u001b[39mmean() \u001b[39m/\u001b[39m buf\u001b[39m.\u001b[39mstd()\n\u001b[1;32m     34\u001b[0m \u001b[39mreturn\u001b[39;00m sharpe_ratio\n",
      "File \u001b[0;32m~/Kaggle/jpx-2022/venv/lib/python3.10/site-packages/pandas/core/groupby/groupby.py:1414\u001b[0m, in \u001b[0;36mGroupBy.apply\u001b[0;34m(self, func, *args, **kwargs)\u001b[0m\n\u001b[1;32m   1412\u001b[0m \u001b[39mwith\u001b[39;00m option_context(\u001b[39m\"\u001b[39m\u001b[39mmode.chained_assignment\u001b[39m\u001b[39m\"\u001b[39m, \u001b[39mNone\u001b[39;00m):\n\u001b[1;32m   1413\u001b[0m     \u001b[39mtry\u001b[39;00m:\n\u001b[0;32m-> 1414\u001b[0m         result \u001b[39m=\u001b[39m \u001b[39mself\u001b[39;49m\u001b[39m.\u001b[39;49m_python_apply_general(f, \u001b[39mself\u001b[39;49m\u001b[39m.\u001b[39;49m_selected_obj)\n\u001b[1;32m   1415\u001b[0m     \u001b[39mexcept\u001b[39;00m \u001b[39mTypeError\u001b[39;00m:\n\u001b[1;32m   1416\u001b[0m         \u001b[39m# gh-20949\u001b[39;00m\n\u001b[1;32m   1417\u001b[0m         \u001b[39m# try again, with .apply acting as a filtering\u001b[39;00m\n\u001b[0;32m   (...)\u001b[0m\n\u001b[1;32m   1421\u001b[0m         \u001b[39m# fails on *some* columns, e.g. a numeric operation\u001b[39;00m\n\u001b[1;32m   1422\u001b[0m         \u001b[39m# on a string grouper column\u001b[39;00m\n\u001b[1;32m   1424\u001b[0m         \u001b[39mwith\u001b[39;00m \u001b[39mself\u001b[39m\u001b[39m.\u001b[39m_group_selection_context():\n",
      "File \u001b[0;32m~/Kaggle/jpx-2022/venv/lib/python3.10/site-packages/pandas/core/groupby/groupby.py:1455\u001b[0m, in \u001b[0;36mGroupBy._python_apply_general\u001b[0;34m(self, f, data, not_indexed_same)\u001b[0m\n\u001b[1;32m   1429\u001b[0m \u001b[39m@final\u001b[39m\n\u001b[1;32m   1430\u001b[0m \u001b[39mdef\u001b[39;00m \u001b[39m_python_apply_general\u001b[39m(\n\u001b[1;32m   1431\u001b[0m     \u001b[39mself\u001b[39m,\n\u001b[0;32m   (...)\u001b[0m\n\u001b[1;32m   1434\u001b[0m     not_indexed_same: \u001b[39mbool\u001b[39m \u001b[39m|\u001b[39m \u001b[39mNone\u001b[39;00m \u001b[39m=\u001b[39m \u001b[39mNone\u001b[39;00m,\n\u001b[1;32m   1435\u001b[0m ) \u001b[39m-\u001b[39m\u001b[39m>\u001b[39m DataFrame \u001b[39m|\u001b[39m Series:\n\u001b[1;32m   1436\u001b[0m     \u001b[39m\"\"\"\u001b[39;00m\n\u001b[1;32m   1437\u001b[0m \u001b[39m    Apply function f in python space\u001b[39;00m\n\u001b[1;32m   1438\u001b[0m \n\u001b[0;32m   (...)\u001b[0m\n\u001b[1;32m   1453\u001b[0m \u001b[39m        data after applying f\u001b[39;00m\n\u001b[1;32m   1454\u001b[0m \u001b[39m    \"\"\"\u001b[39;00m\n\u001b[0;32m-> 1455\u001b[0m     values, mutated \u001b[39m=\u001b[39m \u001b[39mself\u001b[39;49m\u001b[39m.\u001b[39;49mgrouper\u001b[39m.\u001b[39;49mapply(f, data, \u001b[39mself\u001b[39;49m\u001b[39m.\u001b[39;49maxis)\n\u001b[1;32m   1457\u001b[0m     \u001b[39mif\u001b[39;00m not_indexed_same \u001b[39mis\u001b[39;00m \u001b[39mNone\u001b[39;00m:\n\u001b[1;32m   1458\u001b[0m         not_indexed_same \u001b[39m=\u001b[39m mutated \u001b[39mor\u001b[39;00m \u001b[39mself\u001b[39m\u001b[39m.\u001b[39mmutated\n",
      "File \u001b[0;32m~/Kaggle/jpx-2022/venv/lib/python3.10/site-packages/pandas/core/groupby/ops.py:761\u001b[0m, in \u001b[0;36mBaseGrouper.apply\u001b[0;34m(self, f, data, axis)\u001b[0m\n\u001b[1;32m    759\u001b[0m \u001b[39m# group might be modified\u001b[39;00m\n\u001b[1;32m    760\u001b[0m group_axes \u001b[39m=\u001b[39m group\u001b[39m.\u001b[39maxes\n\u001b[0;32m--> 761\u001b[0m res \u001b[39m=\u001b[39m f(group)\n\u001b[1;32m    762\u001b[0m \u001b[39mif\u001b[39;00m \u001b[39mnot\u001b[39;00m mutated \u001b[39mand\u001b[39;00m \u001b[39mnot\u001b[39;00m _is_indexed_like(res, group_axes, axis):\n\u001b[1;32m    763\u001b[0m     mutated \u001b[39m=\u001b[39m \u001b[39mTrue\u001b[39;00m\n",
      "File \u001b[0;32m~/Kaggle/jpx-2022/venv/lib/python3.10/site-packages/pandas/core/groupby/groupby.py:1388\u001b[0m, in \u001b[0;36mGroupBy.apply.<locals>.f\u001b[0;34m(g)\u001b[0m\n\u001b[1;32m   1385\u001b[0m \u001b[39m@wraps\u001b[39m(func)\n\u001b[1;32m   1386\u001b[0m \u001b[39mdef\u001b[39;00m \u001b[39mf\u001b[39m(g):\n\u001b[1;32m   1387\u001b[0m     \u001b[39mwith\u001b[39;00m np\u001b[39m.\u001b[39merrstate(\u001b[39mall\u001b[39m\u001b[39m=\u001b[39m\u001b[39m\"\u001b[39m\u001b[39mignore\u001b[39m\u001b[39m\"\u001b[39m):\n\u001b[0;32m-> 1388\u001b[0m         \u001b[39mreturn\u001b[39;00m func(g, \u001b[39m*\u001b[39;49margs, \u001b[39m*\u001b[39;49m\u001b[39m*\u001b[39;49mkwargs)\n",
      "File \u001b[0;32m~/Kaggle/jpx-2022/helper_functions/calc_sharpe.py:24\u001b[0m, in \u001b[0;36mcalc_spread_return_sharpe.<locals>._calc_spread_return_per_day\u001b[0;34m(df, portfolio_size, toprank_weight_ratio)\u001b[0m\n\u001b[1;32m     15\u001b[0m \u001b[39m\"\"\"\u001b[39;00m\n\u001b[1;32m     16\u001b[0m \u001b[39mArgs:\u001b[39;00m\n\u001b[1;32m     17\u001b[0m \u001b[39m    df (pd.DataFrame): predicted results\u001b[39;00m\n\u001b[0;32m   (...)\u001b[0m\n\u001b[1;32m     21\u001b[0m \u001b[39m    (float): spread return\u001b[39;00m\n\u001b[1;32m     22\u001b[0m \u001b[39m\"\"\"\u001b[39;00m\n\u001b[1;32m     23\u001b[0m \u001b[39mprint\u001b[39m(\u001b[39mf\u001b[39m\u001b[39m\"\u001b[39m\u001b[39mmin: \u001b[39m\u001b[39m{\u001b[39;00mdf[\u001b[39m'\u001b[39m\u001b[39mRank\u001b[39m\u001b[39m'\u001b[39m]\u001b[39m.\u001b[39mmin()\u001b[39m}\u001b[39;00m\u001b[39m, max: \u001b[39m\u001b[39m{\u001b[39;00mdf[\u001b[39m'\u001b[39m\u001b[39mRank\u001b[39m\u001b[39m'\u001b[39m]\u001b[39m.\u001b[39mmax()\u001b[39m}\u001b[39;00m\u001b[39m\"\u001b[39m)\n\u001b[0;32m---> 24\u001b[0m \u001b[39massert\u001b[39;00m df[\u001b[39m'\u001b[39m\u001b[39mRank\u001b[39m\u001b[39m'\u001b[39m]\u001b[39m.\u001b[39mmin() \u001b[39m==\u001b[39m \u001b[39m0\u001b[39m\n\u001b[1;32m     25\u001b[0m \u001b[39massert\u001b[39;00m df[\u001b[39m'\u001b[39m\u001b[39mRank\u001b[39m\u001b[39m'\u001b[39m]\u001b[39m.\u001b[39mmax() \u001b[39m==\u001b[39m \u001b[39mlen\u001b[39m(df[\u001b[39m'\u001b[39m\u001b[39mRank\u001b[39m\u001b[39m'\u001b[39m]) \u001b[39m-\u001b[39m \u001b[39m1\u001b[39m\n\u001b[1;32m     26\u001b[0m weights \u001b[39m=\u001b[39m np\u001b[39m.\u001b[39mlinspace(start\u001b[39m=\u001b[39mtoprank_weight_ratio, stop\u001b[39m=\u001b[39m\u001b[39m1\u001b[39m, num\u001b[39m=\u001b[39mportfolio_size)\n",
      "\u001b[0;31mAssertionError\u001b[0m: "
     ]
    }
   ],
   "source": [
    "hf.calc_spread_return_sharpe(pred_df)"
   ]
  },
  {
   "cell_type": "code",
   "execution_count": null,
   "metadata": {},
   "outputs": [],
   "source": [
    "print(pred_df)"
   ]
  },
  {
   "cell_type": "code",
   "execution_count": null,
   "metadata": {},
   "outputs": [],
   "source": [
    "# Verifying if the ranking is the same\n",
    "securities_codes    = stock_prices[\"SecuritiesCode\"]\n",
    "securities_list     = sorted(list(set(securities_codes)))\n",
    "securities_dict     = {i: securities_list.index(i) for i in securities_list}\n",
    "submission = pd.DataFrame()\n",
    "dates = sorted(list(set(pd.to_datetime(stock_prices[\"Date\"]).dt.date)))\n",
    "\n",
    "a = train_class[0][1]\n",
    "sorted_args = torch.argsort(a, descending=True)\n",
    "securities_sort = [list(securities_dict.keys())[list(securities_dict.values()).index(i)] for i in sorted_args]\n",
    "print(securities_sort)"
   ]
  },
  {
   "cell_type": "code",
   "execution_count": null,
   "metadata": {},
   "outputs": [],
   "source": [
    "date = dates[0]\n",
    "submission[\"Date\"] = [date.strftime(\"%Y-%m-%d\")] * len(securities_sort)\n",
    "submission[\"SecuritiesCode\"] = securities_list\n",
    "submission[\"Rank\"] = [securities_sort.index(i) for i in securities_list]"
   ]
  },
  {
   "cell_type": "code",
   "execution_count": null,
   "metadata": {},
   "outputs": [],
   "source": [
    "print(submission)"
   ]
  },
  {
   "cell_type": "code",
   "execution_count": null,
   "metadata": {},
   "outputs": [],
   "source": [
    "close_prices = train_class[0][0]\n",
    "close_prices = close_prices.cuda()\n",
    "net_out = net(close_prices)\n",
    "\n",
    "print(net_out)\n",
    "\n",
    "sample_prediction = pd.DataFrame()\n",
    "\n",
    "sorted_args = torch.argsort(net_out, descending=True)\n",
    "securities_sort = [list(securities_dict.keys())[list(securities_dict.values()).index(i)] for i in sorted_args]\n",
    "\n",
    "sample_prediction[\"Rank\"] = [securities_sort.index(i) for i in securities_list]\n",
    "print(submission)"
   ]
  },
  {
   "cell_type": "code",
   "execution_count": null,
   "metadata": {},
   "outputs": [],
   "source": []
  }
 ],
 "metadata": {
  "kernelspec": {
   "display_name": "Python 3.10.4 ('venv': venv)",
   "language": "python",
   "name": "python3"
  },
  "language_info": {
   "codemirror_mode": {
    "name": "ipython",
    "version": 3
   },
   "file_extension": ".py",
   "mimetype": "text/x-python",
   "name": "python",
   "nbconvert_exporter": "python",
   "pygments_lexer": "ipython3",
   "version": "3.10.5"
  },
  "orig_nbformat": 4,
  "vscode": {
   "interpreter": {
    "hash": "e2db06da75207f0b335e9532cc533497eb90d83ed622a6d9d355f2997ed09f04"
   }
  }
 },
 "nbformat": 4,
 "nbformat_minor": 2
}
