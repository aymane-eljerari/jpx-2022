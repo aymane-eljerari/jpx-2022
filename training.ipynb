{
 "cells": [
  {
   "cell_type": "code",
   "execution_count": 1,
   "metadata": {},
   "outputs": [
    {
     "name": "stderr",
     "output_type": "stream",
     "text": [
      "/home/aymane/Kaggle/jpx-2022/venv/lib/python3.10/site-packages/tqdm/auto.py:22: TqdmWarning: IProgress not found. Please update jupyter and ipywidgets. See https://ipywidgets.readthedocs.io/en/stable/user_install.html\n",
      "  from .autonotebook import tqdm as notebook_tqdm\n"
     ]
    }
   ],
   "source": [
    "import torch\n",
    "import numpy as np\n",
    "import pandas as pd\n",
    "import helper_functions as hf\n",
    "from dataloader import JPXData\n",
    "import matplotlib.pyplot as plt\n",
    "import torch.nn as nn\n",
    "import torch.nn.functional as F\n",
    "import torch.optim as optim\n",
    "from torch.utils.data.dataloader import default_collate\n",
    "from torchvision import transforms\n",
    "from statistics import mean\n",
    "\n",
    "torch.set_printoptions(profile=\"default\")\n",
    "device = \"cuda\" if torch.cuda.is_available() else \"cpu\""
   ]
  },
  {
   "cell_type": "code",
   "execution_count": 2,
   "metadata": {},
   "outputs": [],
   "source": [
    "# Run this to create the new modified_data folder\n",
    "# ~ 1 min runtime\n",
    "\n",
    "# hf.concat_data()\n",
    "\n",
    "# Run this to tokenize Section/Product and NewMarketSegmentColumns on stock_list.csv\n",
    "# ~ 20 secs runtime\n",
    "\n",
    "# hf.tokenize_stock_list()\n",
    "\n",
    "# Run this to adjust the closing price\n",
    "# ~ 40 secs runtime\n",
    "\n",
    "# hf.adjust_price()"
   ]
  },
  {
   "cell_type": "code",
   "execution_count": 2,
   "metadata": {},
   "outputs": [],
   "source": [
    "dataloader = JPXData()\n",
    "trainloader = torch.utils.data.DataLoader(dataloader, batch_size=1, shuffle=True, num_workers=5)"
   ]
  },
  {
   "cell_type": "code",
   "execution_count": 3,
   "metadata": {},
   "outputs": [
    {
     "data": {
      "text/html": [
       "<div>\n",
       "<style scoped>\n",
       "    .dataframe tbody tr th:only-of-type {\n",
       "        vertical-align: middle;\n",
       "    }\n",
       "\n",
       "    .dataframe tbody tr th {\n",
       "        vertical-align: top;\n",
       "    }\n",
       "\n",
       "    .dataframe thead th {\n",
       "        text-align: right;\n",
       "    }\n",
       "</style>\n",
       "<table border=\"1\" class=\"dataframe\">\n",
       "  <thead>\n",
       "    <tr style=\"text-align: right;\">\n",
       "      <th></th>\n",
       "      <th>Target</th>\n",
       "      <th>SecuritiesCode</th>\n",
       "    </tr>\n",
       "  </thead>\n",
       "  <tbody>\n",
       "    <tr>\n",
       "      <th>1733</th>\n",
       "      <td>-0.069874</td>\n",
       "      <td>9474</td>\n",
       "    </tr>\n",
       "    <tr>\n",
       "      <th>1856</th>\n",
       "      <td>-0.067387</td>\n",
       "      <td>9983</td>\n",
       "    </tr>\n",
       "    <tr>\n",
       "      <th>1136</th>\n",
       "      <td>-0.062112</td>\n",
       "      <td>6875</td>\n",
       "    </tr>\n",
       "    <tr>\n",
       "      <th>1852</th>\n",
       "      <td>-0.059276</td>\n",
       "      <td>9974</td>\n",
       "    </tr>\n",
       "    <tr>\n",
       "      <th>1078</th>\n",
       "      <td>-0.057514</td>\n",
       "      <td>6707</td>\n",
       "    </tr>\n",
       "    <tr>\n",
       "      <th>...</th>\n",
       "      <td>...</td>\n",
       "      <td>...</td>\n",
       "    </tr>\n",
       "    <tr>\n",
       "      <th>1695</th>\n",
       "      <td>0.094378</td>\n",
       "      <td>9233</td>\n",
       "    </tr>\n",
       "    <tr>\n",
       "      <th>404</th>\n",
       "      <td>0.098553</td>\n",
       "      <td>3547</td>\n",
       "    </tr>\n",
       "    <tr>\n",
       "      <th>1000</th>\n",
       "      <td>0.104668</td>\n",
       "      <td>6425</td>\n",
       "    </tr>\n",
       "    <tr>\n",
       "      <th>1297</th>\n",
       "      <td>0.106332</td>\n",
       "      <td>7600</td>\n",
       "    </tr>\n",
       "    <tr>\n",
       "      <th>457</th>\n",
       "      <td>0.175676</td>\n",
       "      <td>3825</td>\n",
       "    </tr>\n",
       "  </tbody>\n",
       "</table>\n",
       "<p>1865 rows × 2 columns</p>\n",
       "</div>"
      ],
      "text/plain": [
       "        Target  SecuritiesCode\n",
       "1733 -0.069874            9474\n",
       "1856 -0.067387            9983\n",
       "1136 -0.062112            6875\n",
       "1852 -0.059276            9974\n",
       "1078 -0.057514            6707\n",
       "...        ...             ...\n",
       "1695  0.094378            9233\n",
       "404   0.098553            3547\n",
       "1000  0.104668            6425\n",
       "1297  0.106332            7600\n",
       "457   0.175676            3825\n",
       "\n",
       "[1865 rows x 2 columns]"
      ]
     },
     "execution_count": 3,
     "metadata": {},
     "output_type": "execute_result"
    }
   ],
   "source": [
    "# Ranking Securities Codes by rate of change from t+1 to t+2\n",
    "stock_prices = pd.read_csv(\"modified_data/stock_prices.csv\")\n",
    "date = \"2017-01-04\"\n",
    "targets = stock_prices.query(\"Date == @date\")[[\"Target\", \"SecuritiesCode\"]].fillna(0)\n",
    "df = targets.sort_values(by=\"Target\")\n",
    "df"
   ]
  },
  {
   "cell_type": "code",
   "execution_count": 4,
   "metadata": {},
   "outputs": [
    {
     "name": "stdout",
     "output_type": "stream",
     "text": [
      "(tensor([-0.9404, -0.1169,  0.3708,  ...,  0.6936, -1.2222, -0.6998]), tensor([ 0.0007,  0.0123,  0.0062,  ...,  0.0150, -0.0011,  0.0075]))\n"
     ]
    }
   ],
   "source": [
    "a = dataloader[0]\n",
    "print(a)"
   ]
  },
  {
   "cell_type": "code",
   "execution_count": 6,
   "metadata": {},
   "outputs": [],
   "source": [
    "# # Verifying if the ranking is the same\n",
    "# securities_codes    = stock_prices[\"SecuritiesCode\"]\n",
    "# securities_list     = sorted(list(set(securities_codes)))\n",
    "# securities_dict     = {i: securities_list.index(i) for i in securities_list}\n",
    "\n",
    "# a = dataloader[0][1]\n",
    "# sorted_args = torch.argsort(a, descending=True)\n",
    "# securities_sort = [list(securities_dict.keys())[list(securities_dict.values()).index(i)] for i in sorted_args]\n",
    "# print(securities_sort)"
   ]
  },
  {
   "cell_type": "code",
   "execution_count": 5,
   "metadata": {},
   "outputs": [],
   "source": [
    "class Net(nn.Module):\n",
    "    def __init__(self):\n",
    "        super().__init__()\n",
    "        self.layer_stack = nn.Sequential(\n",
    "            nn.Linear(2000, 2500),\n",
    "            nn.LeakyReLU(negative_slope=0.1),\n",
    "            nn.Linear(2500, 1500),\n",
    "            nn.LeakyReLU(negative_slope=0.1),\n",
    "            nn.Linear(1500, 1000),\n",
    "            nn.LeakyReLU(negative_slope=0.1),\n",
    "            nn.Linear(1000, 1500),\n",
    "            nn.LeakyReLU(negative_slope=0.1),\n",
    "            nn.Linear(1500, 2000),\n",
    "        )\n",
    "\n",
    "    def forward(self, x):\n",
    "        output = self.layer_stack(x)\n",
    "        return output"
   ]
  },
  {
   "cell_type": "code",
   "execution_count": 10,
   "metadata": {},
   "outputs": [],
   "source": [
    "net = Net().cuda()"
   ]
  },
  {
   "cell_type": "code",
   "execution_count": 11,
   "metadata": {},
   "outputs": [],
   "source": [
    "criterion = nn.MSELoss().cuda()\n",
    "optimizer = optim.SGD(net.parameters(), lr=1e-2, momentum=0.9)"
   ]
  },
  {
   "cell_type": "code",
   "execution_count": 12,
   "metadata": {},
   "outputs": [
    {
     "name": "stdout",
     "output_type": "stream",
     "text": [
      "[1,   100] loss: nan\n",
      "[1,   200] loss: nan\n",
      "[1,   300] loss: nan\n",
      "[1,   400] loss: nan\n",
      "[1,   500] loss: nan\n",
      "[1,   600] loss: nan\n",
      "[1,   700] loss: nan\n",
      "[1,   800] loss: nan\n",
      "[1,   900] loss: nan\n",
      "[1,  1000] loss: nan\n"
     ]
    }
   ],
   "source": [
    "loss_a1 = []\n",
    "\n",
    "for epoch in range(2):  # loop over the dataset multiple times\n",
    "\n",
    "    running_loss = 0.0\n",
    "    for i, data in enumerate(trainloader, 0):\n",
    "        # get the inputs; data is a list of [inputs, labels]\n",
    "        inputs, labels = data\n",
    "        inputs = inputs.cuda()\n",
    "        labels = labels.cuda()\n",
    "\n",
    "        # zero the parameter gradients\n",
    "        optimizer.zero_grad()\n",
    "\n",
    "        # forward + backward + optimize\n",
    "        outputs = net(inputs)\n",
    "        loss = hf.loss_function(outputs * 10, labels * 10, criterion=nn.HuberLoss(delta=5))\n",
    "        loss.backward()\n",
    "        # torch.nn.utils.clip_grad_norm_(net.parameters(), 1.5)\n",
    "        optimizer.step()\n",
    "\n",
    "        # print statistics\n",
    "        running_loss += loss.item()\n",
    "        loss_a1.append(running_loss)\n",
    "        if i % 100 == 99:    # print every 2000 mini-batches\n",
    "            print(f'[{epoch + 1}, {i + 1:5d}] loss: {running_loss / 2000:.10f}')\n",
    "            running_loss = 0.0\n",
    "        # torch.save(net.state_dict(), f'saved_models/{epoch}.pt')\n",
    "\n",
    "print('Finished Training')"
   ]
  },
  {
   "cell_type": "code",
   "execution_count": 9,
   "metadata": {},
   "outputs": [
    {
     "data": {
      "image/png": "[encoded data removed]",
      "text/plain": [
       "<Figure size 432x288 with 1 Axes>"
      ]
     },
     "metadata": {
      "needs_background": "light"
     },
     "output_type": "display_data"
    }
   ],
   "source": [
    "plt.plot(loss_a1)\n",
    "plt.show()"
   ]
  },
  {
   "cell_type": "code",
   "execution_count": 13,
   "metadata": {},
   "outputs": [],
   "source": [
    "# Verifying if the ranking is the same\n",
    "securities_codes    = stock_prices[\"SecuritiesCode\"]\n",
    "securities_list     = sorted(list(set(securities_codes)))\n",
    "securities_dict     = {i: securities_list.index(i) for i in securities_list}\n",
    "submission = pd.DataFrame()\n",
    "dates = sorted(list(set(pd.to_datetime(stock_prices[\"Date\"]).dt.date)))\n",
    "\n",
    "a = dataloader[0][1]\n",
    "sorted_args = torch.argsort(a, descending=True)\n",
    "securities_sort = [list(securities_dict.keys())[list(securities_dict.values()).index(i)] for i in sorted_args]\n"
   ]
  },
  {
   "cell_type": "code",
   "execution_count": 17,
   "metadata": {},
   "outputs": [],
   "source": [
    "date = dates[0]\n",
    "submission[\"Date\"] = date.strftime(\"%Y-%m-%d\")\n",
    "submission[\"SecuritiesCode\"] = securities_sort\n",
    "submission[\"Rank\"] = list(range(len(securities_sort)))"
   ]
  },
  {
   "cell_type": "code",
   "execution_count": 18,
   "metadata": {},
   "outputs": [
    {
     "name": "stdout",
     "output_type": "stream",
     "text": [
      "            Date  SecuritiesCode  Rank\n",
      "0     2017-01-04            3825     0\n",
      "1     2017-01-04            7600     1\n",
      "2     2017-01-04            6425     2\n",
      "3     2017-01-04            3547     3\n",
      "4     2017-01-04            9233     4\n",
      "...          ...             ...   ...\n",
      "1995  2017-01-04            6707  1995\n",
      "1996  2017-01-04            9974  1996\n",
      "1997  2017-01-04            6875  1997\n",
      "1998  2017-01-04            9983  1998\n",
      "1999  2017-01-04            9474  1999\n",
      "\n",
      "[2000 rows x 3 columns]\n"
     ]
    }
   ],
   "source": [
    "print(submission)"
   ]
  }
 ],
 "metadata": {
  "kernelspec": {
   "display_name": "Python 3.10.4 ('venv': venv)",
   "language": "python",
   "name": "python3"
  },
  "language_info": {
   "codemirror_mode": {
    "name": "ipython",
    "version": 3
   },
   "file_extension": ".py",
   "mimetype": "text/x-python",
   "name": "python",
   "nbconvert_exporter": "python",
   "pygments_lexer": "ipython3",
   "version": "3.10.5"
  },
  "orig_nbformat": 4,
  "vscode": {
   "interpreter": {
    "hash": "e2db06da75207f0b335e9532cc533497eb90d83ed622a6d9d355f2997ed09f04"
   }
  }
 },
 "nbformat": 4,
 "nbformat_minor": 2
}
